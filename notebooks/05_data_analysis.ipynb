{
 "cells": [
  {
   "cell_type": "code",
   "execution_count": 1,
   "id": "0548750d",
   "metadata": {},
   "outputs": [],
   "source": [
    "from pyspark.sql import SparkSession, functions as F, types as T\n",
    "from pyspark import SparkConf, SparkContext\n",
    "import os\n",
    "from dotenv import load_dotenv"
   ]
  },
  {
   "cell_type": "code",
   "execution_count": 2,
   "id": "7dbbfa4b",
   "metadata": {},
   "outputs": [],
   "source": [
    "conf = SparkConf()\n",
    "conf.set(\"spark.jars.packages\", \"net.snowflake:snowflake-jdbc:3.24.2,net.snowflake:spark-snowflake_2.12:3.1.2\")\n",
    "spark = SparkSession.builder \\\n",
    "    .config(conf=conf) \\\n",
    "    .getOrCreate()"
   ]
  },
  {
   "cell_type": "code",
   "execution_count": 3,
   "id": "66ee977e",
   "metadata": {},
   "outputs": [],
   "source": [
    "load_dotenv(dotenv_path=\"/home/jovyan/work/.env\")\n",
    "\n",
    "sfOptions = {\n",
    "    \"sfURL\": os.getenv(\"URL\"),\n",
    "    \"sfDatabase\": os.getenv(\"DB\"),\n",
    "    \"sfSchema\": \"ANALYTICS\",\n",
    "    \"sfWarehouse\": os.getenv(\"WAREHOUSE\"),\n",
    "    \"sfRole\": os.getenv(\"ROLE\"),\n",
    "    \"sfUser\": os.getenv(\"USER\"),\n",
    "    \"sfPassword\": os.getenv(\"PASSWORD\")\n",
    "}"
   ]
  },
  {
   "cell_type": "code",
   "execution_count": 4,
   "id": "260e8a4d",
   "metadata": {},
   "outputs": [
    {
     "name": "stdout",
     "output_type": "stream",
     "text": [
      "tabla cargada\n"
     ]
    }
   ],
   "source": [
    "df = spark.read.format(\"snowflake\") \\\n",
    "    .options(**sfOptions) \\\n",
    "    .option(\"dbtable\", \"ANALYTICS.OBT_TRIPS\") \\\n",
    "    .load()\n",
    "\n",
    "print(\"tabla cargada\")"
   ]
  },
  {
   "cell_type": "markdown",
   "id": "d2a8537c",
   "metadata": {},
   "source": [
    "a) Top 10 zonas de pickup por volumen mensual"
   ]
  },
  {
   "cell_type": "code",
   "execution_count": 28,
   "id": "89fd9263",
   "metadata": {},
   "outputs": [
    {
     "name": "stdout",
     "output_type": "stream",
     "text": [
      "+-----+--------------------+---------+\n",
      "|MONTH|             PU_ZONE|num_trips|\n",
      "+-----+--------------------+---------+\n",
      "|    1|Upper East Side S...|  3047066|\n",
      "|    1|Upper East Side N...|  2925423|\n",
      "|    1|      Midtown Center|  2890009|\n",
      "|    1|        Midtown East|  2481739|\n",
      "|    1|Times Sq/Theatre ...|  2478174|\n",
      "|    1|Penn Station/Madi...|  2440131|\n",
      "|    1|            Union Sq|  2269092|\n",
      "|    1|         Murray Hill|  2241200|\n",
      "|    1| Lincoln Square East|  2170625|\n",
      "|    1|        Clinton East|  2165022|\n",
      "|    1|        East Village|  2071936|\n",
      "|    1|         JFK Airport|  2055335|\n",
      "|    1|       Midtown North|  1948385|\n",
      "|    1|Upper West Side S...|  1925936|\n",
      "|    1|     Lenox Hill West|  1794045|\n",
      "|    1|        East Chelsea|  1746989|\n",
      "|    1|            Gramercy|  1722188|\n",
      "|    1|   LaGuardia Airport|  1708302|\n",
      "|    1|       Midtown South|  1660350|\n",
      "|    1|        West Village|  1544942|\n",
      "+-----+--------------------+---------+\n",
      "only showing top 20 rows\n",
      "\n"
     ]
    }
   ],
   "source": [
    "top_pickup = (\n",
    "    df.groupBy(\"MONTH\", \"PU_ZONE\")\n",
    "      .agg(F.count(\"*\").alias(\"num_trips\"))\n",
    "      .orderBy( \"MONTH\", F.col(\"num_trips\").desc())\n",
    ")\n",
    "top_pickup.show()"
   ]
  },
  {
   "cell_type": "markdown",
   "id": "9886f09f",
   "metadata": {},
   "source": [
    "b) Top 10 zonas de dropoff por volumen mensual."
   ]
  },
  {
   "cell_type": "code",
   "execution_count": 29,
   "id": "28dbeca6",
   "metadata": {},
   "outputs": [
    {
     "name": "stdout",
     "output_type": "stream",
     "text": [
      "+-----+--------------------+---------+\n",
      "|MONTH|             DO_ZONE|num_trips|\n",
      "+-----+--------------------+---------+\n",
      "|    1|Upper East Side N...|  3076863|\n",
      "|    1|Upper East Side S...|  2738783|\n",
      "|    1|      Midtown Center|  2714918|\n",
      "|    1|         Murray Hill|  2272433|\n",
      "|    1|Times Sq/Theatre ...|  2194933|\n",
      "|    1|        Midtown East|  2146806|\n",
      "|    1| Lincoln Square East|  1992453|\n",
      "|    1|            Union Sq|  1975954|\n",
      "|    1|        Clinton East|  1946386|\n",
      "|    1|Upper West Side S...|  1921607|\n",
      "|    1|     Lenox Hill West|  1876772|\n",
      "|    1|Penn Station/Madi...|  1839065|\n",
      "|    1|        East Village|  1784186|\n",
      "|    1|       Midtown North|  1731205|\n",
      "|    1|        East Chelsea|  1678802|\n",
      "|    1|Upper West Side N...|  1643838|\n",
      "|    1|            Gramercy|  1565393|\n",
      "|    1|      Yorkville West|  1499737|\n",
      "|    1|       Midtown South|  1494509|\n",
      "|    1|     Lenox Hill East|  1444425|\n",
      "+-----+--------------------+---------+\n",
      "only showing top 20 rows\n",
      "\n"
     ]
    }
   ],
   "source": [
    "top_dropoff = (\n",
    "    df.groupBy(\"MONTH\", \"DO_ZONE\")\n",
    "      .agg(F.count(\"*\").alias(\"num_trips\"))\n",
    "      .orderBy( \"MONTH\", F.col(\"num_trips\").desc())\n",
    ")\n",
    "top_dropoff.show()"
   ]
  },
  {
   "cell_type": "markdown",
   "id": "7a4028c0",
   "metadata": {},
   "source": [
    "c) Evolución mensual de total_amount y tip_pct por borough."
   ]
  },
  {
   "cell_type": "code",
   "execution_count": 13,
   "id": "c9b08d78",
   "metadata": {},
   "outputs": [
    {
     "name": "stdout",
     "output_type": "stream",
     "text": [
      "+-----+----------+----------------+-----------+\n",
      "|MONTH|PU_BOROUGH|avg_total_amount|avg_tip_pct|\n",
      "+-----+----------+----------------+-----------+\n",
      "|1    |Bronx     |20.19           |2.12       |\n",
      "|2    |Bronx     |19.09           |1.81       |\n",
      "|3    |Bronx     |18.96           |1.82       |\n",
      "|4    |Bronx     |19.72           |2.26       |\n",
      "|5    |Bronx     |20.03           |2.29       |\n",
      "|6    |Bronx     |20.52           |2.42       |\n",
      "|7    |Bronx     |21.09           |2.56       |\n",
      "|8    |Bronx     |21.61           |2.57       |\n",
      "|9    |Bronx     |21.26           |2.85       |\n",
      "|10   |Bronx     |21.67           |2.8        |\n",
      "|11   |Bronx     |21.47           |2.69       |\n",
      "|12   |Bronx     |21.39           |2.55       |\n",
      "|1    |Brooklyn  |17.58           |8.19       |\n",
      "|2    |Brooklyn  |17.66           |8.37       |\n",
      "|3    |Brooklyn  |17.94           |8.18       |\n",
      "|4    |Brooklyn  |18.15           |8.38       |\n",
      "|5    |Brooklyn  |18.64           |8.27       |\n",
      "|6    |Brooklyn  |18.88           |8.15       |\n",
      "|7    |Brooklyn  |18.8            |8.0        |\n",
      "|8    |Brooklyn  |18.78           |7.78       |\n",
      "|9    |Brooklyn  |18.61           |8.29       |\n",
      "|10   |Brooklyn  |18.6            |8.46       |\n",
      "|11   |Brooklyn  |18.45           |8.36       |\n",
      "|12   |Brooklyn  |19.04           |8.29       |\n",
      "|1    |EWR       |90.86           |10.59      |\n",
      "|2    |EWR       |89.77           |10.5       |\n",
      "|3    |EWR       |91.01           |10.76      |\n",
      "|4    |EWR       |90.74           |10.36      |\n",
      "|5    |EWR       |91.32           |10.75      |\n",
      "|6    |EWR       |93.97           |10.92      |\n",
      "|7    |EWR       |91.89           |10.05      |\n",
      "|8    |EWR       |92.02           |10.2       |\n",
      "|9    |EWR       |91.83           |10.32      |\n",
      "|10   |EWR       |93.5            |10.92      |\n",
      "|11   |EWR       |93.26           |11.15      |\n",
      "|12   |EWR       |94.74           |10.64      |\n",
      "|1    |Manhattan |15.48           |10.63      |\n",
      "|2    |Manhattan |15.73           |10.72      |\n",
      "|3    |Manhattan |16.11           |10.57      |\n",
      "|4    |Manhattan |16.24           |10.49      |\n",
      "|5    |Manhattan |16.68           |10.41      |\n",
      "|6    |Manhattan |16.67           |10.43      |\n",
      "|7    |Manhattan |16.32           |10.23      |\n",
      "|8    |Manhattan |16.18           |10.23      |\n",
      "|9    |Manhattan |16.45           |10.48      |\n",
      "|10   |Manhattan |16.45           |10.65      |\n",
      "|11   |Manhattan |16.32           |10.71      |\n",
      "|12   |Manhattan |16.45           |14.19      |\n",
      "|1    |N/A       |61.26           |6.17       |\n",
      "|2    |N/A       |58.63           |5.7        |\n",
      "+-----+----------+----------------+-----------+\n",
      "only showing top 50 rows\n",
      "\n"
     ]
    }
   ],
   "source": [
    "evolucion_borough = (\n",
    "    df.groupBy(\"MONTH\", \"PU_BOROUGH\")\n",
    "      .agg(\n",
    "          F.round(F.avg(\"TOTAL_AMOUNT\"), 2).alias(\"avg_total_amount\"),\n",
    "          F.round(F.avg(\"TIP_PCT\"), 2).alias(\"avg_tip_pct\")\n",
    "      )\n",
    "      .orderBy(\"PU_BOROUGH\", \"MONTH\")\n",
    ")\n",
    "evolucion_borough.show(50, False)"
   ]
  },
  {
   "cell_type": "markdown",
   "id": "1dee3b77",
   "metadata": {},
   "source": [
    "d) Ticket promedio (avg total_amount) por service_type y mes."
   ]
  },
  {
   "cell_type": "code",
   "execution_count": 9,
   "id": "04064bfc",
   "metadata": {},
   "outputs": [
    {
     "name": "stdout",
     "output_type": "stream",
     "text": [
      "+-----+------------+----------------+\n",
      "|MONTH|SERVICE_TYPE|avg_total_amount|\n",
      "+-----+------------+----------------+\n",
      "|    1|       green|           15.37|\n",
      "|    1|      yellow|           17.82|\n",
      "|    2|       green|           15.29|\n",
      "|    2|      yellow|           17.81|\n",
      "|    3|       green|           15.32|\n",
      "|    3|      yellow|           18.45|\n",
      "|    4|       green|           15.56|\n",
      "|    4|      yellow|           18.65|\n",
      "|    5|       green|           15.93|\n",
      "|    5|      yellow|           19.26|\n",
      "|    6|       green|            15.9|\n",
      "|    6|      yellow|           19.29|\n",
      "|    7|       green|           15.86|\n",
      "|    7|      yellow|           19.01|\n",
      "|    8|       green|           16.07|\n",
      "|    8|      yellow|           18.99|\n",
      "|    9|       green|           16.29|\n",
      "|    9|      yellow|           19.04|\n",
      "|   10|       green|           16.12|\n",
      "|   10|      yellow|           18.95|\n",
      "+-----+------------+----------------+\n",
      "only showing top 20 rows\n",
      "\n"
     ]
    }
   ],
   "source": [
    "ticket_service = (\n",
    "    df.groupBy(\"MONTH\", \"SERVICE_TYPE\")\n",
    "      .agg(F.round(F.avg(\"TOTAL_AMOUNT\"), 2).alias(\"avg_total_amount\"))\n",
    "      .orderBy(\"MONTH\")\n",
    ")\n",
    "ticket_service.show()"
   ]
  },
  {
   "cell_type": "markdown",
   "id": "6187a99e",
   "metadata": {},
   "source": [
    "e) Viajes por hora del día y día de semana (picos)."
   ]
  },
  {
   "cell_type": "code",
   "execution_count": 14,
   "id": "feda1cc8",
   "metadata": {},
   "outputs": [
    {
     "name": "stdout",
     "output_type": "stream",
     "text": [
      "+-----------+-----------+---------+\n",
      "|PICKUP_HOUR|DAY_OF_WEEK|num_trips|\n",
      "+-----------+-----------+---------+\n",
      "|          0|          0|  1813408|\n",
      "|          1|          0|  1147755|\n",
      "|          2|          0|  1332276|\n",
      "|          3|          0|  1950314|\n",
      "|          4|          0|  2884855|\n",
      "|          5|          0|  4118295|\n",
      "|          6|          0|  5178440|\n",
      "|          7|          0|  5875104|\n",
      "|          8|          0|  6252902|\n",
      "|          9|          0|  6316318|\n",
      "|         10|          0|  6375938|\n",
      "|         11|          0|  6206169|\n",
      "|         12|          0|  6189142|\n",
      "|         13|          0|  6327145|\n",
      "|         14|          0|  6112753|\n",
      "|         15|          0|  5545338|\n",
      "|         16|          0|  5096868|\n",
      "|         17|          0|  4772658|\n",
      "|         18|          0|  4023361|\n",
      "|         19|          0|  3064250|\n",
      "|         20|          0|  1965606|\n",
      "|         21|          0|  1194638|\n",
      "|         22|          0|   790538|\n",
      "|         23|          0|   651537|\n",
      "|          0|          1|   862669|\n",
      "|          1|          1|  1720522|\n",
      "|          2|          1|  3488278|\n",
      "|          3|          1|  5091546|\n",
      "|          4|          1|  5746721|\n",
      "|          5|          1|  5543026|\n",
      "|          6|          1|  5335952|\n",
      "|          7|          1|  5484480|\n",
      "|          8|          1|  5705937|\n",
      "|          9|          1|  5944926|\n",
      "|         10|          1|  6336580|\n",
      "|         11|          1|  6262429|\n",
      "|         12|          1|  6379884|\n",
      "|         13|          1|  7153157|\n",
      "|         14|          1|  7351191|\n",
      "|         15|          1|  6705925|\n",
      "|         16|          1|  6202079|\n",
      "|         17|          1|  5697440|\n",
      "|         18|          1|  4589885|\n",
      "|         19|          1|  3193237|\n",
      "|         20|          1|  1956790|\n",
      "|         21|          1|  1116717|\n",
      "|         22|          1|   690846|\n",
      "|         23|          1|   545138|\n",
      "|          0|          2|   763287|\n",
      "|          1|          2|  1747745|\n",
      "|          2|          2|  3809744|\n",
      "|          3|          2|  5730204|\n",
      "|          4|          2|  6437737|\n",
      "|          5|          2|  6130583|\n",
      "|          6|          2|  5856726|\n",
      "|          7|          2|  5960968|\n",
      "|          8|          2|  6163342|\n",
      "|          9|          2|  6378547|\n",
      "|         10|          2|  6718318|\n",
      "|         11|          2|  6514060|\n",
      "|         12|          2|  6600363|\n",
      "|         13|          2|  7603174|\n",
      "|         14|          2|  8053764|\n",
      "|         15|          2|  7581289|\n",
      "|         16|          2|  7265989|\n",
      "|         17|          2|  6921682|\n",
      "|         18|          2|  5734984|\n",
      "|         19|          2|  4005137|\n",
      "|         20|          2|  2418886|\n",
      "|         21|          2|  1394903|\n",
      "|         22|          2|   864306|\n",
      "|         23|          2|   656732|\n",
      "|          0|          3|   825610|\n",
      "|          1|          3|  1781623|\n",
      "|          2|          3|  3887222|\n",
      "|          3|          3|  5875177|\n",
      "|          4|          3|  6579467|\n",
      "|          5|          3|  6265416|\n",
      "|          6|          3|  6029600|\n",
      "|          7|          3|  6208811|\n",
      "|          8|          3|  6407801|\n",
      "|          9|          3|  6586928|\n",
      "|         10|          3|  6826315|\n",
      "|         11|          3|  6584533|\n",
      "|         12|          3|  6679776|\n",
      "|         13|          3|  7739273|\n",
      "|         14|          3|  8266538|\n",
      "|         15|          3|  7926382|\n",
      "|         16|          3|  7614960|\n",
      "|         17|          3|  7389225|\n",
      "|         18|          3|  6312741|\n",
      "|         19|          3|  4612782|\n",
      "|         20|          3|  2873399|\n",
      "|         21|          3|  1691398|\n",
      "|         22|          3|  1053622|\n",
      "|         23|          3|   778251|\n",
      "|          0|          4|   899635|\n",
      "|          1|          4|  1823211|\n",
      "|          2|          4|  3924589|\n",
      "|          3|          4|  5883633|\n",
      "|          4|          4|  6594838|\n",
      "|          5|          4|  6292019|\n",
      "|          6|          4|  6079346|\n",
      "|          7|          4|  6251837|\n",
      "|          8|          4|  6462588|\n",
      "|          9|          4|  6672931|\n",
      "|         10|          4|  6983541|\n",
      "|         11|          4|  6700112|\n",
      "|         12|          4|  6750648|\n",
      "|         13|          4|  7820951|\n",
      "|         14|          4|  8393723|\n",
      "|         15|          4|  8113941|\n",
      "|         16|          4|  7876383|\n",
      "|         17|          4|  7717189|\n",
      "|         18|          4|  6947139|\n",
      "|         19|          4|  5585100|\n",
      "|         20|          4|  3911132|\n",
      "|         21|          4|  2493932|\n",
      "|         22|          4|  1608434|\n",
      "|         23|          4|  1138633|\n",
      "|          0|          5|  1105514|\n",
      "|          1|          5|  1838516|\n",
      "|          2|          5|  3707137|\n",
      "|          3|          5|  5436078|\n",
      "|          4|          5|  6146975|\n",
      "|          5|          5|  5996753|\n",
      "|          6|          5|  5898125|\n",
      "|          7|          5|  6102060|\n",
      "|          8|          5|  6321484|\n",
      "|          9|          5|  6540539|\n",
      "|         10|          5|  6916862|\n",
      "|         11|          5|  6671703|\n",
      "|         12|          5|  6790327|\n",
      "|         13|          5|  7830997|\n",
      "|         14|          5|  8468338|\n",
      "|         15|          5|  8044567|\n",
      "|         16|          5|  7331303|\n",
      "|         17|          5|  7330995|\n",
      "|         18|          5|  7389067|\n",
      "|         19|          5|  6936129|\n",
      "|         20|          5|  6023038|\n",
      "|         21|          5|  4944123|\n",
      "|         22|          5|  3838997|\n",
      "|         23|          5|  2703935|\n",
      "|          0|          6|  1656350|\n",
      "|          1|          6|  1163369|\n",
      "|          2|          6|  1624738|\n",
      "|          3|          6|  2446813|\n",
      "|          4|          6|  3611888|\n",
      "|          5|          6|  4792165|\n",
      "|          6|          6|  5642381|\n",
      "|          7|          6|  6282572|\n",
      "|          8|          6|  6695837|\n",
      "|          9|          6|  6754710|\n",
      "|         10|          6|  6783614|\n",
      "|         11|          6|  6759991|\n",
      "|         12|          6|  6806362|\n",
      "|         13|          6|  7419044|\n",
      "|         14|          6|  7798466|\n",
      "|         15|          6|  7382665|\n",
      "|         16|          6|  6709919|\n",
      "|         17|          6|  6877039|\n",
      "|         18|          6|  7217948|\n",
      "|         19|          6|  7031574|\n",
      "|         20|          6|  6259121|\n",
      "|         21|          6|  5303515|\n",
      "|         22|          6|  4229164|\n",
      "|         23|          6|  3019324|\n",
      "+-----------+-----------+---------+\n",
      "\n"
     ]
    }
   ],
   "source": [
    "trips_by_hour_day = (\n",
    "    df.groupBy(\"PICKUP_HOUR\", \"DAY_OF_WEEK\")\n",
    "      .agg(F.count(\"*\").alias(\"num_trips\"))\n",
    "      .orderBy(\"DAY_OF_WEEK\", \"PICKUP_HOUR\")\n",
    ")\n",
    "trips_by_hour_day.show(200)"
   ]
  },
  {
   "cell_type": "markdown",
   "id": "6f8d20d2",
   "metadata": {},
   "source": [
    "Viendo la tabla los picos estan entre semana a las 14:00, mientras que los sabados esta a las 18:00 y por último los domingos existe actividad en la mañana con su pico a las 10:00"
   ]
  },
  {
   "cell_type": "markdown",
   "id": "8dcec0ce",
   "metadata": {},
   "source": [
    "f) p50/p90 de trip_duration_min por borough de pickup."
   ]
  },
  {
   "cell_type": "code",
   "execution_count": 11,
   "id": "52d96197",
   "metadata": {},
   "outputs": [
    {
     "name": "stdout",
     "output_type": "stream",
     "text": [
      "+-------------+------------+------------+\n",
      "|   PU_BOROUGH|p50_duration|p90_duration|\n",
      "+-------------+------------+------------+\n",
      "|       Queens|        24.0|        54.0|\n",
      "|          EWR|         0.0|         2.0|\n",
      "|      Unknown|        10.0|        28.0|\n",
      "|     Brooklyn|        13.0|        33.0|\n",
      "|Staten Island|        23.0|        71.0|\n",
      "|          N/A|         1.0|        60.0|\n",
      "|    Manhattan|        11.0|        25.0|\n",
      "|        Bronx|        13.0|        38.0|\n",
      "+-------------+------------+------------+\n",
      "\n"
     ]
    }
   ],
   "source": [
    "duration_pct = (\n",
    "    df.groupBy(\"PU_BOROUGH\")\n",
    "      .agg(\n",
    "          F.percentile_approx(\"TRIP_DURATION_MIN\", 0.5).alias(\"p50_duration\"),\n",
    "          F.percentile_approx(\"TRIP_DURATION_MIN\", 0.9).alias(\"p90_duration\")\n",
    "      )\n",
    ")\n",
    "duration_pct.show()"
   ]
  },
  {
   "cell_type": "markdown",
   "id": "3374c6c8",
   "metadata": {},
   "source": [
    "g) `avg_speed_mph` por franja horaria (6–9, 17–20) y borough."
   ]
  },
  {
   "cell_type": "code",
   "execution_count": 18,
   "id": "f1c1314f",
   "metadata": {},
   "outputs": [
    {
     "name": "stdout",
     "output_type": "stream",
     "text": [
      "+-------------+---------+-------------+\n",
      "|PU_BOROUGH   |time_slot|avg_speed_mph|\n",
      "+-------------+---------+-------------+\n",
      "|Bronx        |evening  |16.0         |\n",
      "|Bronx        |morning  |13.1         |\n",
      "|Bronx        |other    |13.26        |\n",
      "|Brooklyn     |evening  |13.74        |\n",
      "|Brooklyn     |morning  |11.48        |\n",
      "|Brooklyn     |other    |12.48        |\n",
      "|EWR          |evening  |26.22        |\n",
      "|EWR          |morning  |21.0         |\n",
      "|EWR          |other    |17.98        |\n",
      "|Manhattan    |evening  |12.51        |\n",
      "|Manhattan    |morning  |9.54         |\n",
      "|Manhattan    |other    |10.82        |\n",
      "|N/A          |evening  |18.35        |\n",
      "|N/A          |morning  |17.16        |\n",
      "|N/A          |other    |17.43        |\n",
      "|Queens       |evening  |23.87        |\n",
      "|Queens       |morning  |18.33        |\n",
      "|Queens       |other    |18.53        |\n",
      "|Staten Island|evening  |22.69        |\n",
      "|Staten Island|morning  |21.09        |\n",
      "|Staten Island|other    |20.63        |\n",
      "|Unknown      |evening  |13.89        |\n",
      "|Unknown      |morning  |10.31        |\n",
      "|Unknown      |other    |11.59        |\n",
      "+-------------+---------+-------------+\n",
      "\n"
     ]
    }
   ],
   "source": [
    "df_speed = df.withColumn(\"time_slot\", \n",
    "    F.when((F.col(\"PICKUP_HOUR\").between(6,9)), \"morning\")\n",
    "   .when((F.col(\"PICKUP_HOUR\").between(17,20)), \"evening\")\n",
    "   .otherwise(\"other\")\n",
    ")\n",
    "\n",
    "# speed con valores atipicos eliminados\n",
    "df_speed = df_speed.filter((F.col(\"AVG_SPEED_MPH\") >= 1) & (F.col(\"AVG_SPEED_MPH\") <= 50))\n",
    "\n",
    "avg_speed_slot = (\n",
    "    df_speed.groupBy(\"PU_BOROUGH\", \"time_slot\")\n",
    "            .agg(F.round(F.avg(\"AVG_SPEED_MPH\"),2).alias(\"avg_speed_mph\"))\n",
    "            .orderBy(\"PU_BOROUGH\", \"time_slot\")\n",
    ")\n",
    "avg_speed_slot.show(40, False)"
   ]
  },
  {
   "cell_type": "markdown",
   "id": "159f97e6",
   "metadata": {},
   "source": [
    "Se puede ver como el avg_speed varia de la mañana a la tarde esto debido al trafico y también existen cambios significativos debidos al borough, siendo que la mayor velocidad promedio se da en EWR en la mañana y la menor se da en Manhattan en la mañana lo cual hace sentido debido a la congestión de la ciudad"
   ]
  },
  {
   "cell_type": "markdown",
   "id": "fec26c7c",
   "metadata": {},
   "source": [
    "h) Participación por `payment_type_desc` y su relación con `tip_pct`."
   ]
  },
  {
   "cell_type": "code",
   "execution_count": 14,
   "id": "7b346e86",
   "metadata": {},
   "outputs": [
    {
     "name": "stdout",
     "output_type": "stream",
     "text": [
      "+-----------------+---------+-----------+\n",
      "|PAYMENT_TYPE_DESC|num_trips|avg_tip_pct|\n",
      "+-----------------+---------+-----------+\n",
      "|      Credit card|572759671|      15.07|\n",
      "|             Cash|255987421|        0.0|\n",
      "|  Flex Fare trip | 17444119|      15.77|\n",
      "|        No charge|  4183884|       0.02|\n",
      "|          Dispute|  3616567|       0.03|\n",
      "|    Not specified|  1913192|       3.12|\n",
      "|          Unknown|     3045|        0.1|\n",
      "+-----------------+---------+-----------+\n",
      "\n"
     ]
    }
   ],
   "source": [
    "payment_tip = (\n",
    "    df.groupBy(\"PAYMENT_TYPE_DESC\")\n",
    "      .agg(\n",
    "          F.count(\"*\").alias(\"num_trips\"),\n",
    "          F.round(F.avg(\"TIP_PCT\"),2).alias(\"avg_tip_pct\")\n",
    "      )\n",
    "      .orderBy(F.col(\"num_trips\").desc())\n",
    ")\n",
    "payment_tip.show()"
   ]
  },
  {
   "cell_type": "markdown",
   "id": "74e5fecc",
   "metadata": {},
   "source": [
    "Se puede ver que al pagar con tarjeta de credito o con un viaje flexible existe mayor propina. Siendo que hay una diferencia significatipa con la tarjeta de cretdito, en efectivo no se registra propina esto es consistente ya que estas no se pueden medir de manera automatica"
   ]
  },
  {
   "cell_type": "markdown",
   "id": "f8dbfe4b",
   "metadata": {},
   "source": [
    "i) ¿Qué `rate_code_desc` concentran mayor `trip_distance` y `total_amount`?"
   ]
  },
  {
   "cell_type": "code",
   "execution_count": 15,
   "id": "5fc7d1ae",
   "metadata": {},
   "outputs": [
    {
     "name": "stdout",
     "output_type": "stream",
     "text": [
      "+--------------------+---------------+-----------------+---------+\n",
      "|      RATE_CODE_DESC| total_distance|     total_amount|num_trips|\n",
      "+--------------------+---------------+-----------------+---------+\n",
      "|       Standard rate|3.50396455861E9|1.335229084586E10|807771673|\n",
      "|             Unknown| 8.0639682204E8|    5.605215275E8| 20644902|\n",
      "|                 JFK|   4.30163568E8|  1.38767537936E9| 19754845|\n",
      "|     Negotiated fare|  5.114722168E7|   2.9153840659E8|  5259618|\n",
      "|              Newark|  2.851988972E7|   1.6022611566E8|  1752357|\n",
      "|Nassau or Westche...|  2.096426269E7|     6.90564696E7|   717169|\n",
      "|          Group ride|        8929.84|        185685.24|     7335|\n",
      "+--------------------+---------------+-----------------+---------+\n",
      "\n"
     ]
    }
   ],
   "source": [
    "rate_codes = (\n",
    "    df.groupBy(\"RATE_CODE_DESC\")\n",
    "      .agg(\n",
    "          F.round(F.sum(\"TRIP_DISTANCE\"),2).alias(\"total_distance\"),\n",
    "          F.round(F.sum(\"TOTAL_AMOUNT\"),2).alias(\"total_amount\"),\n",
    "          F.count(\"*\").alias(\"num_trips\")\n",
    "      )\n",
    "      .orderBy(F.col(\"total_distance\").desc())\n",
    ")\n",
    "rate_codes.show(10)"
   ]
  },
  {
   "cell_type": "markdown",
   "id": "f061e076",
   "metadata": {},
   "source": [
    "El que concentra mayor trip_distance y total_amount es el standart rate, lo cual es logico debido a que posee tambien una magnitud mucho mayor a cualquiera de las otras opciones"
   ]
  },
  {
   "cell_type": "markdown",
   "id": "a3e61c76",
   "metadata": {},
   "source": [
    "j) Mix yellow vs green por mes y borough."
   ]
  },
  {
   "cell_type": "code",
   "execution_count": 16,
   "id": "8141ed7c",
   "metadata": {},
   "outputs": [
    {
     "name": "stdout",
     "output_type": "stream",
     "text": [
      "+-----+-------------+------------+---------+\n",
      "|MONTH|   PU_BOROUGH|SERVICE_TYPE|num_trips|\n",
      "+-----+-------------+------------+---------+\n",
      "|    1|        Bronx|      yellow|   122246|\n",
      "|    1|        Bronx|       green|   342339|\n",
      "|    1|     Brooklyn|       green|  2157929|\n",
      "|    1|     Brooklyn|      yellow|   994453|\n",
      "|    1|          EWR|       green|      109|\n",
      "|    1|          EWR|      yellow|     5614|\n",
      "|    1|    Manhattan|       green|  1948766|\n",
      "|    1|    Manhattan|      yellow| 65761203|\n",
      "|    1|          N/A|      yellow|    53418|\n",
      "|    1|          N/A|       green|     3129|\n",
      "|    1|       Queens|       green|  1711803|\n",
      "|    1|       Queens|      yellow|  4630697|\n",
      "|    1|Staten Island|      yellow|     3074|\n",
      "|    1|Staten Island|       green|     1436|\n",
      "|    1|      Unknown|      yellow|  1028484|\n",
      "|    1|      Unknown|       green|     9652|\n",
      "|    2|        Bronx|       green|   377194|\n",
      "|    2|        Bronx|      yellow|   113415|\n",
      "|    2|     Brooklyn|       green|  2130266|\n",
      "|    2|     Brooklyn|      yellow|  1031771|\n",
      "+-----+-------------+------------+---------+\n",
      "only showing top 20 rows\n",
      "\n"
     ]
    }
   ],
   "source": [
    "mix_service = (\n",
    "    df.groupBy(\"MONTH\", \"PU_BOROUGH\", \"SERVICE_TYPE\")\n",
    "      .agg(F.count(\"*\").alias(\"num_trips\"))\n",
    "      .orderBy(\"MONTH\", \"PU_BOROUGH\")\n",
    ")\n",
    "mix_service.show()"
   ]
  },
  {
   "cell_type": "markdown",
   "id": "09c4699a",
   "metadata": {},
   "source": [
    "Se puede ver como yellow es casi siempre mayor, lo cual tiene sentido ya que existen muchos mas datos registrados del service yellow en comparación al green"
   ]
  },
  {
   "cell_type": "markdown",
   "id": "47e00c92",
   "metadata": {},
   "source": [
    "k) Top 20 flujos PU→DO por volumen y su ticket promedio."
   ]
  },
  {
   "cell_type": "code",
   "execution_count": 17,
   "id": "aa84a2ed",
   "metadata": {},
   "outputs": [
    {
     "name": "stdout",
     "output_type": "stream",
     "text": [
      "+--------------------+--------------------+---------+----------+\n",
      "|             PU_ZONE|             DO_ZONE|num_trips|avg_ticket|\n",
      "+--------------------+--------------------+---------+----------+\n",
      "|                 N/A|                 N/A|  7690526|     17.71|\n",
      "|Upper East Side S...|Upper East Side N...|  4503615|     10.33|\n",
      "|Upper East Side N...|Upper East Side S...|  3848736|     11.24|\n",
      "|Upper East Side N...|Upper East Side N...|  3579641|      8.55|\n",
      "|Upper East Side S...|Upper East Side S...|  3426337|      9.09|\n",
      "|Upper West Side S...|Upper West Side N...|  2013131|       8.9|\n",
      "|Upper West Side S...| Lincoln Square East|  1996940|      9.44|\n",
      "|Upper East Side S...|      Midtown Center|  1931239|     12.12|\n",
      "|Upper East Side S...|        Midtown East|  1924965|      10.7|\n",
      "| Lincoln Square East|Upper West Side S...|  1905808|       9.9|\n",
      "|      Midtown Center|Upper East Side S...|  1847546|     11.74|\n",
      "|Upper West Side N...|Upper West Side S...|  1738209|      8.87|\n",
      "|     Lenox Hill West|Upper East Side N...|  1711767|     10.13|\n",
      "|Penn Station/Madi...|Times Sq/Theatre ...|  1670674|     12.48|\n",
      "|Penn Station/Madi...|      Midtown Center|  1656040|     13.13|\n",
      "|Times Sq/Theatre ...|Penn Station/Madi...|  1539712|     10.78|\n",
      "|Upper East Side S...|     Lenox Hill West|  1535622|      9.27|\n",
      "|        Clinton East|        Clinton East|  1524296|     10.03|\n",
      "|            Gramercy|         Murray Hill|  1512641|     10.33|\n",
      "|     Lenox Hill West|Upper East Side S...|  1480718|      9.78|\n",
      "+--------------------+--------------------+---------+----------+\n",
      "only showing top 20 rows\n",
      "\n"
     ]
    }
   ],
   "source": [
    "flows = (\n",
    "    df.groupBy(\"PU_ZONE\", \"DO_ZONE\")\n",
    "      .agg(F.count(\"*\").alias(\"num_trips\"),\n",
    "           F.round(F.avg(\"TOTAL_AMOUNT\"),2).alias(\"avg_ticket\"))\n",
    "      .orderBy(F.col(\"num_trips\").desc())\n",
    ")\n",
    "flows.show(20)"
   ]
  },
  {
   "cell_type": "markdown",
   "id": "417d267e",
   "metadata": {},
   "source": [
    "l) Distribución de `passenger_count` y efecto en `total_amount`."
   ]
  },
  {
   "cell_type": "code",
   "execution_count": 20,
   "id": "1ae4df95",
   "metadata": {},
   "outputs": [
    {
     "name": "stdout",
     "output_type": "stream",
     "text": [
      "+---------------+---------+----------------+\n",
      "|PASSENGER_COUNT|num_trips|avg_total_amount|\n",
      "+---------------+---------+----------------+\n",
      "|              1|608019913|           18.16|\n",
      "|              2|117416754|           19.61|\n",
      "|              3| 32539380|           19.01|\n",
      "|              4| 15730229|           20.11|\n",
      "|              5| 33477355|           17.05|\n",
      "+---------------+---------+----------------+\n",
      "\n"
     ]
    }
   ],
   "source": [
    "# passenger count debe ser mayor a 0 y menor a 6 y total amount mayor a 0 y menor a 500\n",
    "\n",
    "df = df.filter((F.col(\"PASSENGER_COUNT\") > 0) & (F.col(\"PASSENGER_COUNT\") < 7) &\n",
    "                (F.col(\"TOTAL_AMOUNT\") > 0) & (F.col(\"TOTAL_AMOUNT\") < 500))\n",
    "\n",
    "\n",
    "passenger_effect = (\n",
    "    df.groupBy(\"PASSENGER_COUNT\")\n",
    "      .agg(\n",
    "          F.count(\"*\").alias(\"num_trips\"),\n",
    "          F.round(F.avg(\"TOTAL_AMOUNT\"),2).alias(\"avg_total_amount\")\n",
    "      )\n",
    "      .orderBy(\"PASSENGER_COUNT\")\n",
    ")\n",
    "passenger_effect.show()"
   ]
  },
  {
   "cell_type": "markdown",
   "id": "6f31c668",
   "metadata": {},
   "source": [
    "Se puede ver como los pasajeros no parecen tener un efecto en el `total_amount` de los viajes"
   ]
  },
  {
   "cell_type": "markdown",
   "id": "933fac5f",
   "metadata": {},
   "source": [
    "m) Impacto de `tolls_amount` y `congestion_surcharge` por zona."
   ]
  },
  {
   "cell_type": "code",
   "execution_count": 19,
   "id": "458dbbb8",
   "metadata": {},
   "outputs": [
    {
     "name": "stdout",
     "output_type": "stream",
     "text": [
      "+--------------------+---------+--------------+----------------+\n",
      "|             PU_ZONE|avg_tolls|avg_congestion|avg_total_amount|\n",
      "+--------------------+---------+--------------+----------------+\n",
      "|Upper East Side S...|     0.07|          2.43|           14.15|\n",
      "|      Yorkville East|     0.19|          2.43|           15.81|\n",
      "|Upper East Side N...|      0.1|          2.43|           14.64|\n",
      "|Sutton Place/Turt...|     0.12|          2.43|           15.17|\n",
      "|Greenwich Village...|     0.06|          2.43|           16.22|\n",
      "| Lincoln Square East|     0.11|          2.43|           15.47|\n",
      "|        West Village|     0.09|          2.43|           16.23|\n",
      "|     Lenox Hill West|     0.09|          2.43|           14.53|\n",
      "|Upper West Side S...|     0.13|          2.43|            15.2|\n",
      "|                SoHo|     0.08|          2.42|           16.85|\n",
      "|     Lenox Hill East|     0.14|          2.42|           16.31|\n",
      "| Lincoln Square West|     0.12|          2.42|           15.11|\n",
      "|        East Village|     0.09|          2.42|           15.96|\n",
      "|Greenwich Village...|      0.1|          2.42|           15.37|\n",
      "|            Union Sq|     0.14|          2.42|           15.54|\n",
      "|West Chelsea/Huds...|     0.16|          2.42|           17.03|\n",
      "| Little Italy/NoLiTa|     0.05|          2.42|           16.86|\n",
      "|        Midtown East|     0.26|          2.42|           16.83|\n",
      "|            Gramercy|     0.17|          2.42|           15.45|\n",
      "|Meatpacking/West ...|     0.15|          2.42|           16.83|\n",
      "+--------------------+---------+--------------+----------------+\n",
      "only showing top 20 rows\n",
      "\n"
     ]
    }
   ],
   "source": [
    "fees_effect = (\n",
    "    df.groupBy(\"PU_ZONE\")\n",
    "      .agg(\n",
    "          F.round(F.avg(\"TOLLS_AMOUNT\"),2).alias(\"avg_tolls\"),\n",
    "          F.round(F.avg(\"CONGESTION_SURCHARGE\"),2).alias(\"avg_congestion\"),\n",
    "          F.round(F.avg(\"TOTAL_AMOUNT\"),2).alias(\"avg_total_amount\")\n",
    "      )\n",
    "      .orderBy(F.col(\"avg_congestion\").desc())\n",
    ")\n",
    "fees_effect.show()"
   ]
  },
  {
   "cell_type": "markdown",
   "id": "2ff92cde",
   "metadata": {},
   "source": [
    "Viendo algunas zonas\n",
    "\n",
    "| Zona más costosa              | avg_total | avg_tolls | Observación                                      |\n",
    "| ----------------------------- | --------- | --------- | ------------------------------------------------ |\n",
    "| West Chelsea/Hudson Yards     | 17.03     | 0.16      | Relativamente alto en peajes y congestión.       |\n",
    "| Little Italy/NoLiTa           | 16.86     | 0.05      | Bajo en peajes, pero total alto.                 |\n",
    "| Midtown East                  | 16.83     | 0.26      | **Mayor peaje promedio**, lo que eleva el total. |\n",
    "| Meatpacking/West Village West | 16.83     | 0.15      | Promedio en peajes, alto en total.               |\n",
    "| SoHo                          | 16.85     | 0.08      | Peaje bajo, pero alto total.                     |\n",
    "\n",
    "\n",
    "El peaje (tolls_amount) sí tiene un impacto directo en el total de los viajes, mientras que el sobrecargo por congestión es bastante constante por lo que no afecta significaticamente al total."
   ]
  },
  {
   "cell_type": "markdown",
   "id": "b5ffae1f",
   "metadata": {},
   "source": [
    "n) Proporción de viajes cortos vs largos por borough y estacionalidad."
   ]
  },
  {
   "cell_type": "code",
   "execution_count": 24,
   "id": "5c3615ef",
   "metadata": {},
   "outputs": [
    {
     "name": "stdout",
     "output_type": "stream",
     "text": [
      "+----------+-----+---------+---------+\n",
      "|PU_BOROUGH|MONTH|trip_type|num_trips|\n",
      "+----------+-----+---------+---------+\n",
      "|     Bronx|    1|     long|    83738|\n",
      "|     Bronx|    1|    other|    25237|\n",
      "|     Bronx|    1|    short|   259925|\n",
      "|     Bronx|    2|    short|   298486|\n",
      "|     Bronx|    2|     long|    85611|\n",
      "|     Bronx|    2|    other|    22734|\n",
      "|     Bronx|    3|     long|   100082|\n",
      "|     Bronx|    3|    short|   339656|\n",
      "|     Bronx|    3|    other|    24217|\n",
      "|     Bronx|    4|    short|   287422|\n",
      "|     Bronx|    4|    other|    21948|\n",
      "|     Bronx|    4|     long|    89537|\n",
      "|     Bronx|    5|     long|    92016|\n",
      "|     Bronx|    5|    other|    23355|\n",
      "|     Bronx|    5|    short|   287087|\n",
      "|     Bronx|    6|    short|   262252|\n",
      "|     Bronx|    6|     long|    86595|\n",
      "|     Bronx|    6|    other|    22379|\n",
      "|     Bronx|    7|     long|    82959|\n",
      "|     Bronx|    7|    short|   234092|\n",
      "|     Bronx|    7|    other|    23536|\n",
      "|     Bronx|    8|    short|   221930|\n",
      "|     Bronx|    8|    other|    23344|\n",
      "|     Bronx|    8|     long|    83163|\n",
      "|     Bronx|    9|    short|   209321|\n",
      "|     Bronx|    9|    other|    20110|\n",
      "|     Bronx|    9|     long|    70827|\n",
      "|     Bronx|   10|    other|    19960|\n",
      "|     Bronx|   10|     long|    73834|\n",
      "|     Bronx|   10|    short|   211087|\n",
      "|     Bronx|   11|     long|    67066|\n",
      "|     Bronx|   11|    other|    17837|\n",
      "|     Bronx|   11|    short|   194992|\n",
      "|     Bronx|   12|    other|    19116|\n",
      "|     Bronx|   12|     long|    73353|\n",
      "|     Bronx|   12|    short|   215322|\n",
      "|  Brooklyn|    1|    other|    54877|\n",
      "|  Brooklyn|    1|    short|  2283462|\n",
      "|  Brooklyn|    1|     long|   524603|\n",
      "|  Brooklyn|    2|    other|    47534|\n",
      "|  Brooklyn|    2|     long|   531747|\n",
      "|  Brooklyn|    2|    short|  2315296|\n",
      "|  Brooklyn|    3|    other|    49777|\n",
      "|  Brooklyn|    3|     long|   585003|\n",
      "|  Brooklyn|    3|    short|  2465266|\n",
      "|  Brooklyn|    4|    other|    47293|\n",
      "|  Brooklyn|    4|     long|   563560|\n",
      "|  Brooklyn|    4|    short|  2330454|\n",
      "|  Brooklyn|    5|     long|   597410|\n",
      "|  Brooklyn|    5|    short|  2365229|\n",
      "|  Brooklyn|    5|    other|    49827|\n",
      "|  Brooklyn|    6|    short|  2158384|\n",
      "|  Brooklyn|    6|    other|    49408|\n",
      "|  Brooklyn|    6|     long|   540629|\n",
      "|  Brooklyn|    7|    other|    50999|\n",
      "|  Brooklyn|    7|     long|   500123|\n",
      "|  Brooklyn|    7|    short|  1943680|\n",
      "|  Brooklyn|    8|     long|   485246|\n",
      "|  Brooklyn|    8|    short|  1857973|\n",
      "|  Brooklyn|    8|    other|    49369|\n",
      "|  Brooklyn|    9|    other|    46698|\n",
      "|  Brooklyn|    9|     long|   461923|\n",
      "|  Brooklyn|    9|    short|  1857023|\n",
      "|  Brooklyn|   10|    short|  1989704|\n",
      "|  Brooklyn|   10|    other|    44695|\n",
      "|  Brooklyn|   10|     long|   497853|\n",
      "|  Brooklyn|   11|     long|   433087|\n",
      "|  Brooklyn|   11|    other|    42864|\n",
      "|  Brooklyn|   11|    short|  1769664|\n",
      "|  Brooklyn|   12|    short|  1888558|\n",
      "|  Brooklyn|   12|     long|   458121|\n",
      "|  Brooklyn|   12|    other|    46191|\n",
      "|       EWR|    1|    short|     1064|\n",
      "|       EWR|    1|     long|      526|\n",
      "|       EWR|    1|    other|     3903|\n",
      "|       EWR|    2|    other|     3320|\n",
      "|       EWR|    2|     long|      404|\n",
      "|       EWR|    2|    short|     1025|\n",
      "|       EWR|    3|    other|     3898|\n",
      "|       EWR|    3|    short|     1160|\n",
      "|       EWR|    3|     long|      517|\n",
      "|       EWR|    4|    other|     4147|\n",
      "|       EWR|    4|    short|     1120|\n",
      "|       EWR|    4|     long|      551|\n",
      "|       EWR|    5|    other|     4695|\n",
      "|       EWR|    5|     long|      583|\n",
      "|       EWR|    5|    short|     1388|\n",
      "|       EWR|    6|    short|     1265|\n",
      "|       EWR|    6|    other|     4351|\n",
      "|       EWR|    6|     long|      559|\n",
      "|       EWR|    7|    other|     4361|\n",
      "|       EWR|    7|     long|      568|\n",
      "|       EWR|    7|    short|     1089|\n",
      "|       EWR|    8|     long|      489|\n",
      "|       EWR|    8|    other|     4391|\n",
      "|       EWR|    8|    short|     1118|\n",
      "|       EWR|    9|     long|      505|\n",
      "|       EWR|    9|    other|     4056|\n",
      "|       EWR|    9|    short|     1196|\n",
      "|       EWR|   10|    other|     4584|\n",
      "+----------+-----+---------+---------+\n",
      "only showing top 100 rows\n",
      "\n"
     ]
    }
   ],
   "source": [
    "df_length = df.withColumn(\n",
    "    \"trip_type\", \n",
    "    F.when((F.col(\"TRIP_DISTANCE\") > 0) & (F.col(\"TRIP_DISTANCE\") <= 5), \"short\")\n",
    "     .when(F.col(\"TRIP_DISTANCE\") > 5, \"long\")\n",
    "     .otherwise(\"other\") \n",
    ")\n",
    "trip_type_ratio = (\n",
    "    df_length.groupBy(\"PU_BOROUGH\", \"MONTH\", \"trip_type\")\n",
    "             .agg(F.count(\"*\").alias(\"num_trips\"))\n",
    "             .orderBy(\"PU_BOROUGH\", \"MONTH\")\n",
    ")\n",
    "trip_type_ratio.show(100)"
   ]
  },
  {
   "cell_type": "markdown",
   "id": "b9bd406d",
   "metadata": {},
   "source": [
    "Se puede ver como los viajes cortos siempre son mucho mas dominantes que los viajes largos en todos los meses y borough"
   ]
  },
  {
   "cell_type": "markdown",
   "id": "5711dc52",
   "metadata": {},
   "source": [
    "o) Diferencias por vendor en `avg_speed_mph` y `trip_duration_min`."
   ]
  },
  {
   "cell_type": "code",
   "execution_count": 22,
   "id": "bfe429a0",
   "metadata": {},
   "outputs": [
    {
     "name": "stdout",
     "output_type": "stream",
     "text": [
      "+--------------------+---------+------------+\n",
      "|         VENDOR_NAME|avg_speed|avg_duration|\n",
      "+--------------------+---------+------------+\n",
      "|  Curb Mobility, LLC|     17.2|       21.28|\n",
      "|Creative Mobile T...|    34.16|       15.90|\n",
      "|Myle Technologies...|    10.39|       33.20|\n",
      "|       Not specified|    10.64|       14.18|\n",
      "|               Helix|     NULL|        0.00|\n",
      "+--------------------+---------+------------+\n",
      "\n"
     ]
    }
   ],
   "source": [
    "vendor_stats = (\n",
    "    df.groupBy(\"VENDOR_NAME\")\n",
    "      .agg(\n",
    "          F.round(F.avg(\"AVG_SPEED_MPH\"),2).alias(\"avg_speed\"),\n",
    "          F.round(F.avg(\"TRIP_DURATION_MIN\"),2).alias(\"avg_duration\")\n",
    "      )\n",
    ")\n",
    "vendor_stats.show()"
   ]
  },
  {
   "cell_type": "markdown",
   "id": "4a62aa09",
   "metadata": {},
   "source": [
    "Se ve como la velocidad de Creative Mobile es mucho mayor al resto, y logicamente su duración es mucho menor al resto, mientras los que tienen mas duración son los Myle Technologies y por lo tanto tiene la mayor duración de viajes."
   ]
  },
  {
   "cell_type": "markdown",
   "id": "a0aca84b",
   "metadata": {},
   "source": [
    "p) Relación método de pago ↔ `tip_amount` por hora."
   ]
  },
  {
   "cell_type": "code",
   "execution_count": 22,
   "id": "35ac4d08",
   "metadata": {},
   "outputs": [
    {
     "name": "stdout",
     "output_type": "stream",
     "text": [
      "+-----------------+-----------+-------+\n",
      "|PAYMENT_TYPE_DESC|PICKUP_HOUR|avg_tip|\n",
      "+-----------------+-----------+-------+\n",
      "|          Dispute|          0|   0.01|\n",
      "|      Credit card|          0|   3.51|\n",
      "|             Cash|          0|    0.0|\n",
      "|        No charge|          0|    0.0|\n",
      "|          Unknown|          0|    0.0|\n",
      "|          Unknown|          1|    0.0|\n",
      "|      Credit card|          1|   3.32|\n",
      "|        No charge|          1|    0.0|\n",
      "|          Dispute|          1|   0.01|\n",
      "|             Cash|          1|    0.0|\n",
      "|          Dispute|          2|   0.01|\n",
      "|        No charge|          2|    0.0|\n",
      "|          Unknown|          2|    0.0|\n",
      "|             Cash|          2|    0.0|\n",
      "|      Credit card|          2|   2.83|\n",
      "|          Unknown|          3|   0.03|\n",
      "|        No charge|          3|   0.01|\n",
      "|             Cash|          3|    0.0|\n",
      "|      Credit card|          3|   2.71|\n",
      "|          Dispute|          3|   0.01|\n",
      "|          Dispute|          4|   0.01|\n",
      "|      Credit card|          4|   2.75|\n",
      "|          Unknown|          4|    0.0|\n",
      "|             Cash|          4|    0.0|\n",
      "|        No charge|          4|   0.01|\n",
      "|             Cash|          5|    0.0|\n",
      "|          Dispute|          5|   0.01|\n",
      "|          Unknown|          5|   0.06|\n",
      "|      Credit card|          5|   2.85|\n",
      "|        No charge|          5|   0.01|\n",
      "|      Credit card|          6|   2.93|\n",
      "|          Unknown|          6|   0.16|\n",
      "|        No charge|          6|    0.0|\n",
      "|          Dispute|          6|   0.01|\n",
      "|             Cash|          6|    0.0|\n",
      "|      Credit card|          7|    3.0|\n",
      "|          Unknown|          7|   0.13|\n",
      "|             Cash|          7|    0.0|\n",
      "|          Dispute|          7|   0.01|\n",
      "|        No charge|          7|   0.01|\n",
      "|        No charge|          8|   0.01|\n",
      "|             Cash|          8|    0.0|\n",
      "|          Unknown|          8|    0.0|\n",
      "|      Credit card|          8|   3.07|\n",
      "|          Dispute|          8|   0.01|\n",
      "|      Credit card|          9|   3.17|\n",
      "|          Dispute|          9|   0.01|\n",
      "|             Cash|          9|    0.0|\n",
      "|          Unknown|          9|   0.03|\n",
      "|        No charge|          9|    0.0|\n",
      "|          Unknown|         10|    0.0|\n",
      "|        No charge|         10|    0.0|\n",
      "|             Cash|         10|    0.0|\n",
      "|          Dispute|         10|   0.01|\n",
      "|      Credit card|         10|   3.23|\n",
      "|             Cash|         11|    0.0|\n",
      "|      Credit card|         11|   3.31|\n",
      "|          Dispute|         11|   0.01|\n",
      "|        No charge|         11|   0.01|\n",
      "|          Unknown|         11|    0.0|\n",
      "|          Dispute|         12|   0.01|\n",
      "|      Credit card|         12|   3.33|\n",
      "|             Cash|         12|    0.0|\n",
      "|        No charge|         12|    0.0|\n",
      "|          Unknown|         12|   0.06|\n",
      "|             Cash|         13|    0.0|\n",
      "|        No charge|         13|    0.0|\n",
      "|          Dispute|         13|   0.01|\n",
      "|      Credit card|         13|   3.13|\n",
      "|          Unknown|         13|    0.0|\n",
      "|        No charge|         14|    0.0|\n",
      "|          Unknown|         14|   0.07|\n",
      "|             Cash|         14|    0.0|\n",
      "|          Dispute|         14|   0.01|\n",
      "|      Credit card|         14|   2.99|\n",
      "|          Dispute|         15|   0.01|\n",
      "|          Unknown|         15|    0.0|\n",
      "|      Credit card|         15|   2.95|\n",
      "|             Cash|         15|    0.0|\n",
      "|        No charge|         15|    0.0|\n",
      "|             Cash|         16|    0.0|\n",
      "|        No charge|         16|    0.0|\n",
      "|          Dispute|         16|   0.01|\n",
      "|          Unknown|         16|    0.0|\n",
      "|      Credit card|         16|   2.99|\n",
      "|        No charge|         17|    0.0|\n",
      "|      Credit card|         17|   3.06|\n",
      "|          Dispute|         17|   0.01|\n",
      "|             Cash|         17|    0.0|\n",
      "|          Unknown|         17|    0.0|\n",
      "|          Unknown|         18|    0.0|\n",
      "|             Cash|         18|    0.0|\n",
      "|      Credit card|         18|    3.1|\n",
      "|        No charge|         18|    0.0|\n",
      "|          Dispute|         18|   0.01|\n",
      "|      Credit card|         19|    3.1|\n",
      "|          Unknown|         19|    0.0|\n",
      "|          Dispute|         19|   0.01|\n",
      "|             Cash|         19|    0.0|\n",
      "|        No charge|         19|    0.0|\n",
      "|        No charge|         20|    0.0|\n",
      "|             Cash|         20|    0.0|\n",
      "|      Credit card|         20|   2.97|\n",
      "|          Unknown|         20|    0.0|\n",
      "|          Dispute|         20|   0.01|\n",
      "|        No charge|         21|   0.01|\n",
      "|      Credit card|         21|   2.78|\n",
      "|          Unknown|         21|    0.0|\n",
      "|          Dispute|         21|   0.01|\n",
      "|             Cash|         21|    0.0|\n",
      "|      Credit card|         22|   2.69|\n",
      "|          Unknown|         22|    0.0|\n",
      "|        No charge|         22|    0.0|\n",
      "|          Dispute|         22|   0.01|\n",
      "|             Cash|         22|    0.0|\n",
      "|        No charge|         23|    0.0|\n",
      "|      Credit card|         23|   2.88|\n",
      "|          Dispute|         23|   0.02|\n",
      "|             Cash|         23|    0.0|\n",
      "|          Unknown|         23|    0.0|\n",
      "+-----------------+-----------+-------+\n",
      "\n"
     ]
    }
   ],
   "source": [
    "tip_hour = (\n",
    "    df.groupBy(\"PAYMENT_TYPE_DESC\", \"PICKUP_HOUR\")\n",
    "      .agg(F.round(F.avg(\"TIP_AMOUNT\"),2).alias(\"avg_tip\"))\n",
    "      .orderBy(\"PICKUP_HOUR\")\n",
    ")\n",
    "tip_hour.show(7*24)"
   ]
  },
  {
   "cell_type": "markdown",
   "id": "31ebee6b",
   "metadata": {},
   "source": [
    "Se ve como credit card como ya se sabia tiene mas tip y las mayores propinas se dan en la madrugada (00:00 - 01:00)"
   ]
  },
  {
   "cell_type": "markdown",
   "id": "2e89a890",
   "metadata": {},
   "source": [
    "q) Zonas con percentil 99 de duración/distancia fuera de rango (posible congestión/eventos)."
   ]
  },
  {
   "cell_type": "code",
   "execution_count": 5,
   "id": "1a57e5b7",
   "metadata": {},
   "outputs": [
    {
     "name": "stdout",
     "output_type": "stream",
     "text": [
      "Percentil 99 de duración por milla: 125373065.00 min/milla\n",
      "+----------------------------+-----------------+\n",
      "|PU_ZONE                     |num_outlier_trips|\n",
      "+----------------------------+-----------------+\n",
      "|JFK Airport                 |63577            |\n",
      "|Times Sq/Theatre District   |47126            |\n",
      "|Midtown Center              |47009            |\n",
      "|LaGuardia Airport           |45371            |\n",
      "|Penn Station/Madison Sq West|43110            |\n",
      "|East Village                |39681            |\n",
      "|Upper East Side South       |39421            |\n",
      "|Clinton East                |39059            |\n",
      "|Midtown East                |37224            |\n",
      "|Upper East Side North       |35822            |\n",
      "|Union Sq                    |35313            |\n",
      "|Murray Hill                 |34483            |\n",
      "|Midtown North               |33156            |\n",
      "|Midtown South               |31283            |\n",
      "|Lincoln Square East         |31122            |\n",
      "|East Chelsea                |30654            |\n",
      "|Upper West Side South       |27254            |\n",
      "|Gramercy                    |26300            |\n",
      "|West Village                |25523            |\n",
      "|Central Park                |24562            |\n",
      "+----------------------------+-----------------+\n",
      "\n"
     ]
    }
   ],
   "source": [
    "\n",
    "df_valid = df.filter(\n",
    "    (F.col(\"TRIP_DISTANCE\") > 0) &\n",
    "    (F.col(\"TRIP_DURATION_MIN\") > 0)\n",
    ")\n",
    "\n",
    "df_ratio = df_valid.withColumn(\n",
    "    \"duration_per_mile\", \n",
    "    F.col(\"TRIP_DURATION_MIN\") / F.col(\"TRIP_DISTANCE\")\n",
    ")\n",
    "\n",
    "p99_duration_per_mile = df_ratio.approxQuantile(\"duration_per_mile\", [0.99], 0.01)[0]\n",
    "\n",
    "print(f\"Percentil 99 de duración por milla: {p99_duration_per_mile:.2f} min/milla\")\n",
    "\n",
    "outliers_congestion = df_ratio.filter(\n",
    "    F.col(\"duration_per_mile\") >= p99_duration_per_mile\n",
    ")\n",
    "\n",
    "# VALORES IMPOSIBLES\n",
    "outliers_physic = df_ratio.filter(\n",
    "    (F.col(\"TRIP_DISTANCE\") > 100) |\n",
    "    (F.col(\"TRIP_DURATION_MIN\") > 300)\n",
    ")\n",
    "\n",
    "outliers_total = outliers_congestion.union(outliers_physic)\n",
    "\n",
    "zonas_congestion = (\n",
    "    outliers_total.groupBy(\"PU_ZONE\")\n",
    "        .agg(F.count(\"*\").alias(\"num_outlier_trips\"))\n",
    "        .orderBy(F.col(\"num_outlier_trips\").desc())\n",
    ")\n",
    "\n",
    "zonas_congestion.limit(20).show(truncate=False)\n",
    "\n"
   ]
  },
  {
   "cell_type": "markdown",
   "id": "db7d540c",
   "metadata": {},
   "source": [
    "r) Yield por milla (`total_amount`/`trip_distance`) por borough y hora."
   ]
  },
  {
   "cell_type": "code",
   "execution_count": 5,
   "id": "2ed13aaf",
   "metadata": {},
   "outputs": [
    {
     "name": "stdout",
     "output_type": "stream",
     "text": [
      "+-------------+-----------+---------+\n",
      "|   PU_BOROUGH|PICKUP_HOUR|avg_yield|\n",
      "+-------------+-----------+---------+\n",
      "|          N/A|          7|   101.34|\n",
      "|       Queens|         14|    12.22|\n",
      "|    Manhattan|         15|    10.98|\n",
      "|     Brooklyn|         21|     8.41|\n",
      "|          N/A|         21|    227.4|\n",
      "|       Queens|          2|    13.19|\n",
      "|          N/A|          9|    80.88|\n",
      "|      Unknown|         15|    23.69|\n",
      "|     Brooklyn|         13|    14.53|\n",
      "|       Queens|          4|    10.68|\n",
      "|    Manhattan|         17|     9.27|\n",
      "|    Manhattan|          8|    10.65|\n",
      "|       Queens|          8|    11.97|\n",
      "|Staten Island|         21|     53.2|\n",
      "|       Queens|          6|    10.08|\n",
      "|       Queens|          7|    11.33|\n",
      "|          N/A|         15|   195.35|\n",
      "|          N/A|         11|    92.31|\n",
      "|     Brooklyn|         18|     8.56|\n",
      "|    Manhattan|         19|     9.13|\n",
      "+-------------+-----------+---------+\n",
      "only showing top 20 rows\n",
      "\n"
     ]
    }
   ],
   "source": [
    "# VALORES RAZONABLES\n",
    "df_filtered = df.filter((F.col(\"TRIP_DISTANCE\") > 0) & (F.col(\"TRIP_DISTANCE\") < 1000))\n",
    "\n",
    "df_yield = df_filtered.withColumn(\"yield\", F.col(\"TOTAL_AMOUNT\") / F.col(\"TRIP_DISTANCE\"))\n",
    "\n",
    "\n",
    "yield_stats = (\n",
    "    df_yield.groupBy(\"PU_BOROUGH\", \"PICKUP_HOUR\")\n",
    "            .agg(F.round(F.avg(\"yield\"), 2).alias(\"avg_yield\"))\n",
    "\n",
    ")\n",
    "\n",
    "yield_stats.show()"
   ]
  },
  {
   "cell_type": "markdown",
   "id": "dd9514cb",
   "metadata": {},
   "source": [
    "s) Cambios YoY en volumen y ticket promedio por service_type."
   ]
  },
  {
   "cell_type": "code",
   "execution_count": 23,
   "id": "e5fb07f9",
   "metadata": {},
   "outputs": [
    {
     "name": "stdout",
     "output_type": "stream",
     "text": [
      "+------------+----+---------+----------+\n",
      "|SERVICE_TYPE|YEAR|num_trips|avg_ticket|\n",
      "+------------+----+---------+----------+\n",
      "|       green|2015| 18846181|     14.86|\n",
      "|       green|2016| 16032951|     14.72|\n",
      "|       green|2017| 11471137|     14.31|\n",
      "|       green|2018|  8587154|     15.84|\n",
      "|       green|2019|  5493950|      16.1|\n",
      "|       green|2020|  1170825|     15.87|\n",
      "|       green|2021|   640439|     19.09|\n",
      "|       green|2022|   730872|     18.48|\n",
      "|       green|2023|   712878|     23.45|\n",
      "|       green|2024|   614773|     24.12|\n",
      "|       green|2025|   356554|     24.61|\n",
      "|      yellow|2015|140806714|     16.04|\n",
      "|      yellow|2016|126804360|     16.32|\n",
      "|      yellow|2017|109905984|     16.28|\n",
      "|      yellow|2018| 99001048|     16.38|\n",
      "|      yellow|2019| 80399363|     19.08|\n",
      "|      yellow|2020| 22724547|      17.9|\n",
      "|      yellow|2021| 28135735|     19.22|\n",
      "|      yellow|2022| 36808270|      21.7|\n",
      "|      yellow|2023| 35720592|     29.01|\n",
      "|      yellow|2024| 35869782|     29.14|\n",
      "|      yellow|2025| 26191127|     28.95|\n",
      "+------------+----+---------+----------+\n",
      "\n"
     ]
    }
   ],
   "source": [
    "# years solo pueden ser 2015 a 2025\n",
    "\n",
    "df = df.filter((F.col(\"YEAR\") >= 2015) & (F.col(\"YEAR\") <= 2025))\n",
    "# total amount debe tener sentido\n",
    "df = df.filter((F.col(\"TOTAL_AMOUNT\") > 0) & (F.col(\"TOTAL_AMOUNT\") < 500))\n",
    "\n",
    "yoy_service = (\n",
    "    df.groupBy(\"SERVICE_TYPE\", \"YEAR\")\n",
    "      .agg(\n",
    "          F.count(\"*\").alias(\"num_trips\"),\n",
    "          F.round(F.avg(\"TOTAL_AMOUNT\"),2).alias(\"avg_ticket\")\n",
    "      )\n",
    "      .orderBy(\"SERVICE_TYPE\", \"YEAR\")\n",
    ")\n",
    "yoy_service.show(100)\n"
   ]
  },
  {
   "cell_type": "markdown",
   "id": "63352405",
   "metadata": {},
   "source": [
    "La tendencia que sigue es de disminuciónm aunque hay un salgo de 2021 a 2022 esto se explica por la pandemia y a su vez los preecios van en aumento con un salgo significativo de 2022 a 2023 en ambos servicios que también se puede deber a la pandemia"
   ]
  },
  {
   "cell_type": "markdown",
   "id": "74e5e3b5",
   "metadata": {},
   "source": [
    "t) Días con alta congestion_surcharge: efecto en total_amount vs días “normales”"
   ]
  },
  {
   "cell_type": "code",
   "execution_count": 7,
   "id": "30789432",
   "metadata": {},
   "outputs": [
    {
     "name": "stdout",
     "output_type": "stream",
     "text": [
      "+-------------+---------------+---------+----------------+\n",
      "|   PU_BOROUGH|high_congestion|num_trips|avg_total_amount|\n",
      "+-------------+---------------+---------+----------------+\n",
      "|     Brooklyn|         normal| 34604064|           18.11|\n",
      "|      Unknown|           high|  1253807|           25.84|\n",
      "|     Brooklyn|           high|   802673|           31.04|\n",
      "|Staten Island|         normal|    53221|           51.35|\n",
      "|       Queens|           high| 11079699|           70.07|\n",
      "|          EWR|         normal|    74410|           92.13|\n",
      "|    Manhattan|           high|234042485|           19.55|\n",
      "|        Bronx|           high|    33318|           44.29|\n",
      "|       Queens|         normal| 61420560|           34.96|\n",
      "|    Manhattan|         normal|498016059|           14.69|\n",
      "|      Unknown|         normal|  8545317|           18.34|\n",
      "|          N/A|         normal|   708068|           66.05|\n",
      "|          N/A|           high|     8137|           55.88|\n",
      "|        Bronx|         normal|  5265008|           20.32|\n",
      "|Staten Island|           high|      745|           71.68|\n",
      "|          EWR|           high|      328|          100.83|\n",
      "+-------------+---------------+---------+----------------+\n",
      "\n"
     ]
    }
   ],
   "source": [
    "df_cong = df.withColumn(\"high_congestion\", F.when(F.col(\"CONGESTION_SURCHARGE\")>2, \"high\").otherwise(\"normal\"))\n",
    "\n",
    "congestion_effect = (\n",
    "    df_cong.groupBy(\"PU_BOROUGH\", \"high_congestion\")\n",
    "            .agg(\n",
    "                F.count(\"*\").alias(\"num_trips\"),\n",
    "                F.round(F.avg(\"TOTAL_AMOUNT\"),2).alias(\"avg_total_amount\")\n",
    "            )\n",
    ")\n",
    "congestion_effect.show()\n"
   ]
  },
  {
   "cell_type": "markdown",
   "id": "bb3f7aad",
   "metadata": {},
   "source": [
    "En los dias de alta congestión el total aumenta en comparación con los normales, lo cual se explica no solo por el `congestion_surcharge` que ya vimos anterioremente, sino que debido al trafico los viajes van a ser mas largos en cuestion de tiempo y distancia"
   ]
  }
 ],
 "metadata": {
  "kernelspec": {
   "display_name": "Python 3 (ipykernel)",
   "language": "python",
   "name": "python3"
  },
  "language_info": {
   "codemirror_mode": {
    "name": "ipython",
    "version": 3
   },
   "file_extension": ".py",
   "mimetype": "text/x-python",
   "name": "python",
   "nbconvert_exporter": "python",
   "pygments_lexer": "ipython3",
   "version": "3.11.6"
  }
 },
 "nbformat": 4,
 "nbformat_minor": 5
}
