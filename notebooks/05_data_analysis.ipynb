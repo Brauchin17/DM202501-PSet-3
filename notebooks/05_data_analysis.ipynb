{
 "cells": [
  {
   "cell_type": "code",
   "execution_count": 1,
   "id": "0548750d",
   "metadata": {},
   "outputs": [],
   "source": [
    "from pyspark.sql import SparkSession, functions as F, types as T\n",
    "from pyspark import SparkConf, SparkContext\n",
    "import os\n",
    "from dotenv import load_dotenv"
   ]
  },
  {
   "cell_type": "code",
   "execution_count": 2,
   "id": "7dbbfa4b",
   "metadata": {},
   "outputs": [],
   "source": [
    "conf = SparkConf()\n",
    "conf.set(\"spark.jars.packages\", \"net.snowflake:snowflake-jdbc:3.24.2,net.snowflake:spark-snowflake_2.12:3.1.2\")\n",
    "spark = SparkSession.builder \\\n",
    "    .config(conf=conf) \\\n",
    "    .getOrCreate()"
   ]
  },
  {
   "cell_type": "code",
   "execution_count": 3,
   "id": "66ee977e",
   "metadata": {},
   "outputs": [],
   "source": [
    "load_dotenv(dotenv_path=\"/home/jovyan/work/.env\")\n",
    "\n",
    "sfOptions = {\n",
    "    \"sfURL\": os.getenv(\"URL\"),\n",
    "    \"sfDatabase\": os.getenv(\"DB\"),\n",
    "    \"sfSchema\": \"ANALYTICS\",\n",
    "    \"sfWarehouse\": os.getenv(\"WAREHOUSE\"),\n",
    "    \"sfRole\": os.getenv(\"ROLE\"),\n",
    "    \"sfUser\": os.getenv(\"USER\"),\n",
    "    \"sfPassword\": os.getenv(\"PASSWORD\")\n",
    "}"
   ]
  },
  {
   "cell_type": "code",
   "execution_count": 4,
   "id": "260e8a4d",
   "metadata": {},
   "outputs": [
    {
     "name": "stdout",
     "output_type": "stream",
     "text": [
      "tabla cargada\n"
     ]
    }
   ],
   "source": [
    "df = spark.read.format(\"snowflake\") \\\n",
    "    .options(**sfOptions) \\\n",
    "    .option(\"dbtable\", \"ANALYTICS.OBT_TRIPS\") \\\n",
    "    .load()\n",
    "\n",
    "print(\"tabla cargada\")"
   ]
  },
  {
   "cell_type": "markdown",
   "id": "d2a8537c",
   "metadata": {},
   "source": [
    "a) Top 10 zonas de pickup por volumen mensual"
   ]
  },
  {
   "cell_type": "code",
   "execution_count": 28,
   "id": "89fd9263",
   "metadata": {},
   "outputs": [
    {
     "name": "stdout",
     "output_type": "stream",
     "text": [
      "+-----+--------------------+---------+\n",
      "|MONTH|             PU_ZONE|num_trips|\n",
      "+-----+--------------------+---------+\n",
      "|    1|Upper East Side S...|  3047066|\n",
      "|    1|Upper East Side N...|  2925423|\n",
      "|    1|      Midtown Center|  2890009|\n",
      "|    1|        Midtown East|  2481739|\n",
      "|    1|Times Sq/Theatre ...|  2478174|\n",
      "|    1|Penn Station/Madi...|  2440131|\n",
      "|    1|            Union Sq|  2269092|\n",
      "|    1|         Murray Hill|  2241200|\n",
      "|    1| Lincoln Square East|  2170625|\n",
      "|    1|        Clinton East|  2165022|\n",
      "|    1|        East Village|  2071936|\n",
      "|    1|         JFK Airport|  2055335|\n",
      "|    1|       Midtown North|  1948385|\n",
      "|    1|Upper West Side S...|  1925936|\n",
      "|    1|     Lenox Hill West|  1794045|\n",
      "|    1|        East Chelsea|  1746989|\n",
      "|    1|            Gramercy|  1722188|\n",
      "|    1|   LaGuardia Airport|  1708302|\n",
      "|    1|       Midtown South|  1660350|\n",
      "|    1|        West Village|  1544942|\n",
      "+-----+--------------------+---------+\n",
      "only showing top 20 rows\n",
      "\n"
     ]
    }
   ],
   "source": [
    "top_pickup = (\n",
    "    df.groupBy(\"MONTH\", \"PU_ZONE\")\n",
    "      .agg(F.count(\"*\").alias(\"num_trips\"))\n",
    "      .orderBy( \"MONTH\", F.col(\"num_trips\").desc())\n",
    ")\n",
    "top_pickup.show()"
   ]
  },
  {
   "cell_type": "markdown",
   "id": "9886f09f",
   "metadata": {},
   "source": [
    "b) Top 10 zonas de dropoff por volumen mensual."
   ]
  },
  {
   "cell_type": "code",
   "execution_count": 29,
   "id": "28dbeca6",
   "metadata": {},
   "outputs": [
    {
     "name": "stdout",
     "output_type": "stream",
     "text": [
      "+-----+--------------------+---------+\n",
      "|MONTH|             DO_ZONE|num_trips|\n",
      "+-----+--------------------+---------+\n",
      "|    1|Upper East Side N...|  3076863|\n",
      "|    1|Upper East Side S...|  2738783|\n",
      "|    1|      Midtown Center|  2714918|\n",
      "|    1|         Murray Hill|  2272433|\n",
      "|    1|Times Sq/Theatre ...|  2194933|\n",
      "|    1|        Midtown East|  2146806|\n",
      "|    1| Lincoln Square East|  1992453|\n",
      "|    1|            Union Sq|  1975954|\n",
      "|    1|        Clinton East|  1946386|\n",
      "|    1|Upper West Side S...|  1921607|\n",
      "|    1|     Lenox Hill West|  1876772|\n",
      "|    1|Penn Station/Madi...|  1839065|\n",
      "|    1|        East Village|  1784186|\n",
      "|    1|       Midtown North|  1731205|\n",
      "|    1|        East Chelsea|  1678802|\n",
      "|    1|Upper West Side N...|  1643838|\n",
      "|    1|            Gramercy|  1565393|\n",
      "|    1|      Yorkville West|  1499737|\n",
      "|    1|       Midtown South|  1494509|\n",
      "|    1|     Lenox Hill East|  1444425|\n",
      "+-----+--------------------+---------+\n",
      "only showing top 20 rows\n",
      "\n"
     ]
    }
   ],
   "source": [
    "top_dropoff = (\n",
    "    df.groupBy(\"MONTH\", \"DO_ZONE\")\n",
    "      .agg(F.count(\"*\").alias(\"num_trips\"))\n",
    "      .orderBy( \"MONTH\", F.col(\"num_trips\").desc())\n",
    ")\n",
    "top_dropoff.show()"
   ]
  },
  {
   "cell_type": "markdown",
   "id": "7a4028c0",
   "metadata": {},
   "source": [
    "c) Evolución mensual de total_amount y tip_pct por borough."
   ]
  },
  {
   "cell_type": "code",
   "execution_count": 8,
   "id": "c9b08d78",
   "metadata": {},
   "outputs": [
    {
     "name": "stdout",
     "output_type": "stream",
     "text": [
      "+-----+-------------+----------------+-----------+\n",
      "|MONTH|   PU_BOROUGH|avg_total_amount|avg_tip_pct|\n",
      "+-----+-------------+----------------+-----------+\n",
      "|    1|Staten Island|           49.68|       4.12|\n",
      "|    1|    Manhattan|           15.48|      10.63|\n",
      "|    1|      Unknown|           18.17|      10.47|\n",
      "|    1|       Queens|           39.81|       8.62|\n",
      "|    1|          N/A|           61.26|       6.17|\n",
      "|    1|     Brooklyn|           17.58|       8.19|\n",
      "|    1|        Bronx|           20.19|       2.12|\n",
      "|    1|          EWR|           90.86|      10.59|\n",
      "|    2|    Manhattan|           15.73|      10.72|\n",
      "|    2|      Unknown|           17.93|      10.55|\n",
      "|    2|       Queens|           38.01|       8.58|\n",
      "|    2|     Brooklyn|           17.66|       8.37|\n",
      "|    2|Staten Island|           49.09|       4.41|\n",
      "|    2|        Bronx|           19.09|       1.81|\n",
      "|    2|          EWR|           89.77|       10.5|\n",
      "|    2|          N/A|           58.63|        5.7|\n",
      "|    3|Staten Island|           46.09|       5.08|\n",
      "|    3|          N/A|           62.45|       5.48|\n",
      "|    3|    Manhattan|           16.11|      10.57|\n",
      "|    3|      Unknown|           18.19|      10.42|\n",
      "+-----+-------------+----------------+-----------+\n",
      "only showing top 20 rows\n",
      "\n"
     ]
    }
   ],
   "source": [
    "evolucion_borough = (\n",
    "    df.groupBy(\"MONTH\", \"PU_BOROUGH\")\n",
    "      .agg(\n",
    "          F.round(F.avg(\"TOTAL_AMOUNT\"), 2).alias(\"avg_total_amount\"),\n",
    "          F.round(F.avg(\"TIP_PCT\"), 2).alias(\"avg_tip_pct\")\n",
    "      )\n",
    "      .orderBy(\"MONTH\")\n",
    ")\n",
    "evolucion_borough.show()"
   ]
  },
  {
   "cell_type": "markdown",
   "id": "1dee3b77",
   "metadata": {},
   "source": [
    "d) Ticket promedio (avg total_amount) por service_type y mes."
   ]
  },
  {
   "cell_type": "code",
   "execution_count": 9,
   "id": "04064bfc",
   "metadata": {},
   "outputs": [
    {
     "name": "stdout",
     "output_type": "stream",
     "text": [
      "+-----+------------+----------------+\n",
      "|MONTH|SERVICE_TYPE|avg_total_amount|\n",
      "+-----+------------+----------------+\n",
      "|    1|       green|           15.37|\n",
      "|    1|      yellow|           17.82|\n",
      "|    2|       green|           15.29|\n",
      "|    2|      yellow|           17.81|\n",
      "|    3|       green|           15.32|\n",
      "|    3|      yellow|           18.45|\n",
      "|    4|       green|           15.56|\n",
      "|    4|      yellow|           18.65|\n",
      "|    5|       green|           15.93|\n",
      "|    5|      yellow|           19.26|\n",
      "|    6|       green|            15.9|\n",
      "|    6|      yellow|           19.29|\n",
      "|    7|       green|           15.86|\n",
      "|    7|      yellow|           19.01|\n",
      "|    8|       green|           16.07|\n",
      "|    8|      yellow|           18.99|\n",
      "|    9|       green|           16.29|\n",
      "|    9|      yellow|           19.04|\n",
      "|   10|       green|           16.12|\n",
      "|   10|      yellow|           18.95|\n",
      "+-----+------------+----------------+\n",
      "only showing top 20 rows\n",
      "\n"
     ]
    }
   ],
   "source": [
    "ticket_service = (\n",
    "    df.groupBy(\"MONTH\", \"SERVICE_TYPE\")\n",
    "      .agg(F.round(F.avg(\"TOTAL_AMOUNT\"), 2).alias(\"avg_total_amount\"))\n",
    "      .orderBy(\"MONTH\")\n",
    ")\n",
    "ticket_service.show()"
   ]
  },
  {
   "cell_type": "markdown",
   "id": "6187a99e",
   "metadata": {},
   "source": [
    "e) Viajes por hora del día y día de semana (picos)."
   ]
  },
  {
   "cell_type": "code",
   "execution_count": 10,
   "id": "feda1cc8",
   "metadata": {},
   "outputs": [
    {
     "name": "stdout",
     "output_type": "stream",
     "text": [
      "+-----------+-----------+---------+\n",
      "|PICKUP_HOUR|DAY_OF_WEEK|num_trips|\n",
      "+-----------+-----------+---------+\n",
      "|          0|          0|  1813408|\n",
      "|          1|          0|  1147755|\n",
      "|          2|          0|  1332276|\n",
      "|          3|          0|  1950314|\n",
      "|          4|          0|  2884855|\n",
      "|          5|          0|  4118295|\n",
      "|          6|          0|  5178440|\n",
      "|          7|          0|  5875104|\n",
      "|          8|          0|  6252902|\n",
      "|          9|          0|  6316318|\n",
      "|         10|          0|  6375938|\n",
      "|         11|          0|  6206169|\n",
      "|         12|          0|  6189142|\n",
      "|         13|          0|  6327145|\n",
      "|         14|          0|  6112753|\n",
      "|         15|          0|  5545338|\n",
      "|         16|          0|  5096868|\n",
      "|         17|          0|  4772658|\n",
      "|         18|          0|  4023361|\n",
      "|         19|          0|  3064250|\n",
      "+-----------+-----------+---------+\n",
      "only showing top 20 rows\n",
      "\n"
     ]
    }
   ],
   "source": [
    "trips_by_hour_day = (\n",
    "    df.groupBy(\"PICKUP_HOUR\", \"DAY_OF_WEEK\")\n",
    "      .agg(F.count(\"*\").alias(\"num_trips\"))\n",
    "      .orderBy(\"DAY_OF_WEEK\", \"PICKUP_HOUR\")\n",
    ")\n",
    "trips_by_hour_day.show()"
   ]
  },
  {
   "cell_type": "markdown",
   "id": "8dcec0ce",
   "metadata": {},
   "source": [
    "f) p50/p90 de trip_duration_min por borough de pickup."
   ]
  },
  {
   "cell_type": "code",
   "execution_count": 11,
   "id": "52d96197",
   "metadata": {},
   "outputs": [
    {
     "name": "stdout",
     "output_type": "stream",
     "text": [
      "+-------------+------------+------------+\n",
      "|   PU_BOROUGH|p50_duration|p90_duration|\n",
      "+-------------+------------+------------+\n",
      "|       Queens|        24.0|        54.0|\n",
      "|          EWR|         0.0|         2.0|\n",
      "|      Unknown|        10.0|        28.0|\n",
      "|     Brooklyn|        13.0|        33.0|\n",
      "|Staten Island|        23.0|        71.0|\n",
      "|          N/A|         1.0|        60.0|\n",
      "|    Manhattan|        11.0|        25.0|\n",
      "|        Bronx|        13.0|        38.0|\n",
      "+-------------+------------+------------+\n",
      "\n"
     ]
    }
   ],
   "source": [
    "duration_pct = (\n",
    "    df.groupBy(\"PU_BOROUGH\")\n",
    "      .agg(\n",
    "          F.percentile_approx(\"TRIP_DURATION_MIN\", 0.5).alias(\"p50_duration\"),\n",
    "          F.percentile_approx(\"TRIP_DURATION_MIN\", 0.9).alias(\"p90_duration\")\n",
    "      )\n",
    ")\n",
    "duration_pct.show()"
   ]
  },
  {
   "cell_type": "markdown",
   "id": "3374c6c8",
   "metadata": {},
   "source": [
    "g) `avg_speed_mph` por franja horaria (6–9, 17–20) y borough."
   ]
  },
  {
   "cell_type": "code",
   "execution_count": 12,
   "id": "f1c1314f",
   "metadata": {},
   "outputs": [
    {
     "name": "stdout",
     "output_type": "stream",
     "text": [
      "+-------------+---------+-------------+\n",
      "|   PU_BOROUGH|time_slot|avg_speed_mph|\n",
      "+-------------+---------+-------------+\n",
      "|          N/A|    other|         47.5|\n",
      "|       Queens|  morning|        31.65|\n",
      "|    Manhattan|    other|        23.15|\n",
      "|     Brooklyn|    other|        34.37|\n",
      "|        Bronx|  evening|        82.72|\n",
      "|        Bronx|    other|         93.8|\n",
      "|       Queens|  evening|        29.13|\n",
      "|    Manhattan|  evening|        23.14|\n",
      "|Staten Island|  evening|      1201.89|\n",
      "|      Unknown|  morning|        28.11|\n",
      "|     Brooklyn|  evening|        28.45|\n",
      "|     Brooklyn|  morning|        35.23|\n",
      "|       Queens|    other|        37.22|\n",
      "|          EWR|    other|        69.88|\n",
      "|      Unknown|    other|        23.65|\n",
      "|    Manhattan|  morning|        14.65|\n",
      "|Staten Island|    other|        59.72|\n",
      "|          N/A|  morning|        403.5|\n",
      "|      Unknown|  evening|        69.38|\n",
      "|        Bronx|  morning|        93.62|\n",
      "+-------------+---------+-------------+\n",
      "only showing top 20 rows\n",
      "\n"
     ]
    }
   ],
   "source": [
    "df_speed = df.withColumn(\"time_slot\", \n",
    "    F.when((F.col(\"PICKUP_HOUR\").between(6,9)), \"morning\")\n",
    "   .when((F.col(\"PICKUP_HOUR\").between(17,20)), \"evening\")\n",
    "   .otherwise(\"other\")\n",
    ")\n",
    "\n",
    "avg_speed_slot = (\n",
    "    df_speed.groupBy(\"PU_BOROUGH\", \"time_slot\")\n",
    "            .agg(F.round(F.avg(\"AVG_SPEED_MPH\"),2).alias(\"avg_speed_mph\"))\n",
    ")\n",
    "avg_speed_slot.show()"
   ]
  },
  {
   "cell_type": "markdown",
   "id": "fec26c7c",
   "metadata": {},
   "source": [
    "h) Participación por `payment_type_desc` y su relación con `tip_pct`."
   ]
  },
  {
   "cell_type": "code",
   "execution_count": 14,
   "id": "7b346e86",
   "metadata": {},
   "outputs": [
    {
     "name": "stdout",
     "output_type": "stream",
     "text": [
      "+-----------------+---------+-----------+\n",
      "|PAYMENT_TYPE_DESC|num_trips|avg_tip_pct|\n",
      "+-----------------+---------+-----------+\n",
      "|      Credit card|572759671|      15.07|\n",
      "|             Cash|255987421|        0.0|\n",
      "|  Flex Fare trip | 17444119|      15.77|\n",
      "|        No charge|  4183884|       0.02|\n",
      "|          Dispute|  3616567|       0.03|\n",
      "|    Not specified|  1913192|       3.12|\n",
      "|          Unknown|     3045|        0.1|\n",
      "+-----------------+---------+-----------+\n",
      "\n"
     ]
    }
   ],
   "source": [
    "payment_tip = (\n",
    "    df.groupBy(\"PAYMENT_TYPE_DESC\")\n",
    "      .agg(\n",
    "          F.count(\"*\").alias(\"num_trips\"),\n",
    "          F.round(F.avg(\"TIP_PCT\"),2).alias(\"avg_tip_pct\")\n",
    "      )\n",
    "      .orderBy(F.col(\"num_trips\").desc())\n",
    ")\n",
    "payment_tip.show()"
   ]
  },
  {
   "cell_type": "markdown",
   "id": "f8dbfe4b",
   "metadata": {},
   "source": [
    "i) ¿Qué `rate_code_desc` concentran mayor `trip_distance` y `total_amount`?"
   ]
  },
  {
   "cell_type": "code",
   "execution_count": 15,
   "id": "5fc7d1ae",
   "metadata": {},
   "outputs": [
    {
     "name": "stdout",
     "output_type": "stream",
     "text": [
      "+--------------------+---------------+-----------------+---------+\n",
      "|      RATE_CODE_DESC| total_distance|     total_amount|num_trips|\n",
      "+--------------------+---------------+-----------------+---------+\n",
      "|       Standard rate|3.50396455861E9|1.335229084586E10|807771673|\n",
      "|             Unknown| 8.0639682204E8|    5.605215275E8| 20644902|\n",
      "|                 JFK|   4.30163568E8|  1.38767537936E9| 19754845|\n",
      "|     Negotiated fare|  5.114722168E7|   2.9153840659E8|  5259618|\n",
      "|              Newark|  2.851988972E7|   1.6022611566E8|  1752357|\n",
      "|Nassau or Westche...|  2.096426269E7|     6.90564696E7|   717169|\n",
      "|          Group ride|        8929.84|        185685.24|     7335|\n",
      "+--------------------+---------------+-----------------+---------+\n",
      "\n"
     ]
    }
   ],
   "source": [
    "rate_codes = (\n",
    "    df.groupBy(\"RATE_CODE_DESC\")\n",
    "      .agg(\n",
    "          F.round(F.sum(\"TRIP_DISTANCE\"),2).alias(\"total_distance\"),\n",
    "          F.round(F.sum(\"TOTAL_AMOUNT\"),2).alias(\"total_amount\"),\n",
    "          F.count(\"*\").alias(\"num_trips\")\n",
    "      )\n",
    "      .orderBy(F.col(\"total_distance\").desc())\n",
    ")\n",
    "rate_codes.show(10)"
   ]
  },
  {
   "cell_type": "markdown",
   "id": "a3e61c76",
   "metadata": {},
   "source": [
    "j) Mix yellow vs green por mes y borough."
   ]
  },
  {
   "cell_type": "code",
   "execution_count": 16,
   "id": "8141ed7c",
   "metadata": {},
   "outputs": [
    {
     "name": "stdout",
     "output_type": "stream",
     "text": [
      "+-----+-------------+------------+---------+\n",
      "|MONTH|   PU_BOROUGH|SERVICE_TYPE|num_trips|\n",
      "+-----+-------------+------------+---------+\n",
      "|    1|        Bronx|      yellow|   122246|\n",
      "|    1|        Bronx|       green|   342339|\n",
      "|    1|     Brooklyn|       green|  2157929|\n",
      "|    1|     Brooklyn|      yellow|   994453|\n",
      "|    1|          EWR|       green|      109|\n",
      "|    1|          EWR|      yellow|     5614|\n",
      "|    1|    Manhattan|       green|  1948766|\n",
      "|    1|    Manhattan|      yellow| 65761203|\n",
      "|    1|          N/A|      yellow|    53418|\n",
      "|    1|          N/A|       green|     3129|\n",
      "|    1|       Queens|       green|  1711803|\n",
      "|    1|       Queens|      yellow|  4630697|\n",
      "|    1|Staten Island|      yellow|     3074|\n",
      "|    1|Staten Island|       green|     1436|\n",
      "|    1|      Unknown|      yellow|  1028484|\n",
      "|    1|      Unknown|       green|     9652|\n",
      "|    2|        Bronx|       green|   377194|\n",
      "|    2|        Bronx|      yellow|   113415|\n",
      "|    2|     Brooklyn|       green|  2130266|\n",
      "|    2|     Brooklyn|      yellow|  1031771|\n",
      "+-----+-------------+------------+---------+\n",
      "only showing top 20 rows\n",
      "\n"
     ]
    }
   ],
   "source": [
    "mix_service = (\n",
    "    df.groupBy(\"MONTH\", \"PU_BOROUGH\", \"SERVICE_TYPE\")\n",
    "      .agg(F.count(\"*\").alias(\"num_trips\"))\n",
    "      .orderBy(\"MONTH\", \"PU_BOROUGH\")\n",
    ")\n",
    "mix_service.show()"
   ]
  },
  {
   "cell_type": "markdown",
   "id": "47e00c92",
   "metadata": {},
   "source": [
    "k) Top 20 flujos PU→DO por volumen y su ticket promedio."
   ]
  },
  {
   "cell_type": "code",
   "execution_count": 17,
   "id": "aa84a2ed",
   "metadata": {},
   "outputs": [
    {
     "name": "stdout",
     "output_type": "stream",
     "text": [
      "+--------------------+--------------------+---------+----------+\n",
      "|             PU_ZONE|             DO_ZONE|num_trips|avg_ticket|\n",
      "+--------------------+--------------------+---------+----------+\n",
      "|                 N/A|                 N/A|  7690526|     17.71|\n",
      "|Upper East Side S...|Upper East Side N...|  4503615|     10.33|\n",
      "|Upper East Side N...|Upper East Side S...|  3848736|     11.24|\n",
      "|Upper East Side N...|Upper East Side N...|  3579641|      8.55|\n",
      "|Upper East Side S...|Upper East Side S...|  3426337|      9.09|\n",
      "|Upper West Side S...|Upper West Side N...|  2013131|       8.9|\n",
      "|Upper West Side S...| Lincoln Square East|  1996940|      9.44|\n",
      "|Upper East Side S...|      Midtown Center|  1931239|     12.12|\n",
      "|Upper East Side S...|        Midtown East|  1924965|      10.7|\n",
      "| Lincoln Square East|Upper West Side S...|  1905808|       9.9|\n",
      "|      Midtown Center|Upper East Side S...|  1847546|     11.74|\n",
      "|Upper West Side N...|Upper West Side S...|  1738209|      8.87|\n",
      "|     Lenox Hill West|Upper East Side N...|  1711767|     10.13|\n",
      "|Penn Station/Madi...|Times Sq/Theatre ...|  1670674|     12.48|\n",
      "|Penn Station/Madi...|      Midtown Center|  1656040|     13.13|\n",
      "|Times Sq/Theatre ...|Penn Station/Madi...|  1539712|     10.78|\n",
      "|Upper East Side S...|     Lenox Hill West|  1535622|      9.27|\n",
      "|        Clinton East|        Clinton East|  1524296|     10.03|\n",
      "|            Gramercy|         Murray Hill|  1512641|     10.33|\n",
      "|     Lenox Hill West|Upper East Side S...|  1480718|      9.78|\n",
      "+--------------------+--------------------+---------+----------+\n",
      "only showing top 20 rows\n",
      "\n"
     ]
    }
   ],
   "source": [
    "flows = (\n",
    "    df.groupBy(\"PU_ZONE\", \"DO_ZONE\")\n",
    "      .agg(F.count(\"*\").alias(\"num_trips\"),\n",
    "           F.round(F.avg(\"TOTAL_AMOUNT\"),2).alias(\"avg_ticket\"))\n",
    "      .orderBy(F.col(\"num_trips\").desc())\n",
    ")\n",
    "flows.show(20)"
   ]
  },
  {
   "cell_type": "markdown",
   "id": "417d267e",
   "metadata": {},
   "source": [
    "l) Distribución de `passenger_count` y efecto en `total_amount`."
   ]
  },
  {
   "cell_type": "code",
   "execution_count": 18,
   "id": "1ae4df95",
   "metadata": {},
   "outputs": [
    {
     "name": "stdout",
     "output_type": "stream",
     "text": [
      "+---------------+---------+----------------+\n",
      "|PASSENGER_COUNT|num_trips|avg_total_amount|\n",
      "+---------------+---------+----------------+\n",
      "|           NULL| 19357311|           26.41|\n",
      "|              0|  5884595|           19.76|\n",
      "|              1|610196659|            18.1|\n",
      "|              2|117860353|           19.49|\n",
      "|              3| 32659828|           18.96|\n",
      "|              4| 15819035|           19.84|\n",
      "|              5| 33521501|           17.04|\n",
      "|              6| 20598754|           16.87|\n",
      "|              7|     3856|           46.66|\n",
      "|              8|     3961|           48.64|\n",
      "|              9|     2039|           61.21|\n",
      "|             32|        1|           60.35|\n",
      "|             48|        1|            40.3|\n",
      "|             96|        2|           12.59|\n",
      "|            112|        1|           14.76|\n",
      "|            192|        2|            9.15|\n",
      "+---------------+---------+----------------+\n",
      "\n"
     ]
    }
   ],
   "source": [
    "passenger_effect = (\n",
    "    df.groupBy(\"PASSENGER_COUNT\")\n",
    "      .agg(\n",
    "          F.count(\"*\").alias(\"num_trips\"),\n",
    "          F.round(F.avg(\"TOTAL_AMOUNT\"),2).alias(\"avg_total_amount\")\n",
    "      )\n",
    "      .orderBy(\"PASSENGER_COUNT\")\n",
    ")\n",
    "passenger_effect.show()"
   ]
  },
  {
   "cell_type": "markdown",
   "id": "933fac5f",
   "metadata": {},
   "source": [
    "m) Impacto de `tolls_amount` y `congestion_surcharge` por zona."
   ]
  },
  {
   "cell_type": "code",
   "execution_count": 19,
   "id": "458dbbb8",
   "metadata": {},
   "outputs": [
    {
     "name": "stdout",
     "output_type": "stream",
     "text": [
      "+--------------------+---------+--------------+----------------+\n",
      "|             PU_ZONE|avg_tolls|avg_congestion|avg_total_amount|\n",
      "+--------------------+---------+--------------+----------------+\n",
      "|Upper East Side S...|     0.07|          2.43|           14.15|\n",
      "|      Yorkville East|     0.19|          2.43|           15.81|\n",
      "|Upper East Side N...|      0.1|          2.43|           14.64|\n",
      "|Sutton Place/Turt...|     0.12|          2.43|           15.17|\n",
      "|Greenwich Village...|     0.06|          2.43|           16.22|\n",
      "| Lincoln Square East|     0.11|          2.43|           15.47|\n",
      "|        West Village|     0.09|          2.43|           16.23|\n",
      "|     Lenox Hill West|     0.09|          2.43|           14.53|\n",
      "|Upper West Side S...|     0.13|          2.43|            15.2|\n",
      "|                SoHo|     0.08|          2.42|           16.85|\n",
      "|     Lenox Hill East|     0.14|          2.42|           16.31|\n",
      "| Lincoln Square West|     0.12|          2.42|           15.11|\n",
      "|        East Village|     0.09|          2.42|           15.96|\n",
      "|Greenwich Village...|      0.1|          2.42|           15.37|\n",
      "|            Union Sq|     0.14|          2.42|           15.54|\n",
      "|West Chelsea/Huds...|     0.16|          2.42|           17.03|\n",
      "| Little Italy/NoLiTa|     0.05|          2.42|           16.86|\n",
      "|        Midtown East|     0.26|          2.42|           16.83|\n",
      "|            Gramercy|     0.17|          2.42|           15.45|\n",
      "|Meatpacking/West ...|     0.15|          2.42|           16.83|\n",
      "+--------------------+---------+--------------+----------------+\n",
      "only showing top 20 rows\n",
      "\n"
     ]
    }
   ],
   "source": [
    "fees_effect = (\n",
    "    df.groupBy(\"PU_ZONE\")\n",
    "      .agg(\n",
    "          F.round(F.avg(\"TOLLS_AMOUNT\"),2).alias(\"avg_tolls\"),\n",
    "          F.round(F.avg(\"CONGESTION_SURCHARGE\"),2).alias(\"avg_congestion\"),\n",
    "          F.round(F.avg(\"TOTAL_AMOUNT\"),2).alias(\"avg_total_amount\")\n",
    "      )\n",
    "      .orderBy(F.col(\"avg_congestion\").desc())\n",
    ")\n",
    "fees_effect.show()"
   ]
  },
  {
   "cell_type": "markdown",
   "id": "b5ffae1f",
   "metadata": {},
   "source": [
    "n) Proporción de viajes cortos vs largos por borough y estacionalidad."
   ]
  },
  {
   "cell_type": "code",
   "execution_count": 21,
   "id": "5c3615ef",
   "metadata": {},
   "outputs": [
    {
     "name": "stdout",
     "output_type": "stream",
     "text": [
      "+-------------+-----+---------+---------+\n",
      "|   PU_BOROUGH|MONTH|trip_type|num_trips|\n",
      "+-------------+-----+---------+---------+\n",
      "|    Manhattan|    3|     long|  6483951|\n",
      "|       Queens|   11|    short|  1792807|\n",
      "|       Queens|    3|    other|   156192|\n",
      "|       Queens|    1|    short|  2188277|\n",
      "|      Unknown|    3|     long|   127841|\n",
      "|       Queens|   10|    other|   157068|\n",
      "|        Bronx|    3|     long|   146163|\n",
      "|        Bronx|    7|     long|   124325|\n",
      "|       Queens|    7|    other|   154906|\n",
      "|     Brooklyn|    2|    other|    57099|\n",
      "|Staten Island|    3|     long|     2435|\n",
      "|          EWR|    4|    other|     4335|\n",
      "|        Bronx|    1|     long|   130460|\n",
      "|          N/A|    7|    short|    16935|\n",
      "|      Unknown|    4|    short|   678388|\n",
      "|        Bronx|    4|    short|   330101|\n",
      "|          N/A|    2|    other|    17887|\n",
      "|       Queens|    2|     long|  3479328|\n",
      "|          N/A|    1|     long|    16471|\n",
      "|        Bronx|    5|     long|   140553|\n",
      "+-------------+-----+---------+---------+\n",
      "only showing top 20 rows\n",
      "\n"
     ]
    }
   ],
   "source": [
    "df_length = df.withColumn(\n",
    "    \"trip_type\", \n",
    "    F.when((F.col(\"TRIP_DISTANCE\") > 0) & (F.col(\"TRIP_DISTANCE\") <= 5), \"short\")\n",
    "     .when(F.col(\"TRIP_DISTANCE\") > 5, \"long\")\n",
    "     .otherwise(\"other\")  # Optionally add an \"other\" category if needed\n",
    ")\n",
    "trip_type_ratio = (\n",
    "    df_length.groupBy(\"PU_BOROUGH\", \"MONTH\", \"trip_type\")\n",
    "             .agg(F.count(\"*\").alias(\"num_trips\"))\n",
    ")\n",
    "trip_type_ratio.show()"
   ]
  },
  {
   "cell_type": "markdown",
   "id": "5711dc52",
   "metadata": {},
   "source": [
    "o) Diferencias por vendor en `avg_speed_mph` y `trip_duration_min`."
   ]
  },
  {
   "cell_type": "code",
   "execution_count": 22,
   "id": "bfe429a0",
   "metadata": {},
   "outputs": [
    {
     "name": "stdout",
     "output_type": "stream",
     "text": [
      "+--------------------+---------+------------+\n",
      "|         VENDOR_NAME|avg_speed|avg_duration|\n",
      "+--------------------+---------+------------+\n",
      "|  Curb Mobility, LLC|     17.2|       21.28|\n",
      "|Creative Mobile T...|    34.16|       15.90|\n",
      "|Myle Technologies...|    10.39|       33.20|\n",
      "|       Not specified|    10.64|       14.18|\n",
      "|               Helix|     NULL|        0.00|\n",
      "+--------------------+---------+------------+\n",
      "\n"
     ]
    }
   ],
   "source": [
    "vendor_stats = (\n",
    "    df.groupBy(\"VENDOR_NAME\")\n",
    "      .agg(\n",
    "          F.round(F.avg(\"AVG_SPEED_MPH\"),2).alias(\"avg_speed\"),\n",
    "          F.round(F.avg(\"TRIP_DURATION_MIN\"),2).alias(\"avg_duration\")\n",
    "      )\n",
    ")\n",
    "vendor_stats.show()"
   ]
  },
  {
   "cell_type": "markdown",
   "id": "a0aca84b",
   "metadata": {},
   "source": [
    "p) Relación método de pago ↔ `tip_amount` por hora."
   ]
  },
  {
   "cell_type": "code",
   "execution_count": 23,
   "id": "35ac4d08",
   "metadata": {},
   "outputs": [
    {
     "name": "stdout",
     "output_type": "stream",
     "text": [
      "+-----------------+-----------+-------+\n",
      "|PAYMENT_TYPE_DESC|PICKUP_HOUR|avg_tip|\n",
      "+-----------------+-----------+-------+\n",
      "|      Credit card|          0|   3.51|\n",
      "|          Dispute|          0|   0.04|\n",
      "|             Cash|          0|    0.0|\n",
      "|        No charge|          0|    0.0|\n",
      "|          Unknown|          0|    0.0|\n",
      "|    Not specified|          0|   0.88|\n",
      "|  Flex Fare trip |          0|   1.49|\n",
      "|          Unknown|          1|    0.0|\n",
      "|          Dispute|          1|   0.03|\n",
      "|      Credit card|          1|   3.32|\n",
      "|        No charge|          1|    0.0|\n",
      "|             Cash|          1|    0.0|\n",
      "|    Not specified|          1|   0.73|\n",
      "|  Flex Fare trip |          1|   1.52|\n",
      "|        No charge|          2|   0.04|\n",
      "|          Dispute|          2|   0.03|\n",
      "|          Unknown|          2|    0.0|\n",
      "|             Cash|          2|    0.0|\n",
      "|      Credit card|          2|   2.83|\n",
      "|    Not specified|          2|   0.74|\n",
      "+-----------------+-----------+-------+\n",
      "only showing top 20 rows\n",
      "\n"
     ]
    }
   ],
   "source": [
    "tip_hour = (\n",
    "    df.groupBy(\"PAYMENT_TYPE_DESC\", \"PICKUP_HOUR\")\n",
    "      .agg(F.round(F.avg(\"TIP_AMOUNT\"),2).alias(\"avg_tip\"))\n",
    "      .orderBy(\"PICKUP_HOUR\")\n",
    ")\n",
    "tip_hour.show()"
   ]
  },
  {
   "cell_type": "markdown",
   "id": "2e89a890",
   "metadata": {},
   "source": [
    "q) Zonas con percentil 99 de duración/distancia fuera de rango (posible congestión/eventos)."
   ]
  },
  {
   "cell_type": "code",
   "execution_count": 5,
   "id": "1a57e5b7",
   "metadata": {},
   "outputs": [
    {
     "name": "stdout",
     "output_type": "stream",
     "text": [
      "Percentil 99 de duración por milla: 125373065.00 min/milla\n",
      "+----------------------------+-----------------+\n",
      "|PU_ZONE                     |num_outlier_trips|\n",
      "+----------------------------+-----------------+\n",
      "|JFK Airport                 |63577            |\n",
      "|Times Sq/Theatre District   |47126            |\n",
      "|Midtown Center              |47009            |\n",
      "|LaGuardia Airport           |45371            |\n",
      "|Penn Station/Madison Sq West|43110            |\n",
      "|East Village                |39681            |\n",
      "|Upper East Side South       |39421            |\n",
      "|Clinton East                |39059            |\n",
      "|Midtown East                |37224            |\n",
      "|Upper East Side North       |35822            |\n",
      "|Union Sq                    |35313            |\n",
      "|Murray Hill                 |34483            |\n",
      "|Midtown North               |33156            |\n",
      "|Midtown South               |31283            |\n",
      "|Lincoln Square East         |31122            |\n",
      "|East Chelsea                |30654            |\n",
      "|Upper West Side South       |27254            |\n",
      "|Gramercy                    |26300            |\n",
      "|West Village                |25523            |\n",
      "|Central Park                |24562            |\n",
      "+----------------------------+-----------------+\n",
      "\n"
     ]
    }
   ],
   "source": [
    "\n",
    "df_valid = df.filter(\n",
    "    (F.col(\"TRIP_DISTANCE\") > 0) &\n",
    "    (F.col(\"TRIP_DURATION_MIN\") > 0)\n",
    ")\n",
    "\n",
    "df_ratio = df_valid.withColumn(\n",
    "    \"duration_per_mile\", \n",
    "    F.col(\"TRIP_DURATION_MIN\") / F.col(\"TRIP_DISTANCE\")\n",
    ")\n",
    "\n",
    "p99_duration_per_mile = df_ratio.approxQuantile(\"duration_per_mile\", [0.99], 0.01)[0]\n",
    "\n",
    "print(f\"Percentil 99 de duración por milla: {p99_duration_per_mile:.2f} min/milla\")\n",
    "\n",
    "outliers_congestion = df_ratio.filter(\n",
    "    F.col(\"duration_per_mile\") >= p99_duration_per_mile\n",
    ")\n",
    "\n",
    "# VALORES IMPOSIBLES\n",
    "outliers_physic = df_ratio.filter(\n",
    "    (F.col(\"TRIP_DISTANCE\") > 100) |\n",
    "    (F.col(\"TRIP_DURATION_MIN\") > 300)\n",
    ")\n",
    "\n",
    "outliers_total = outliers_congestion.union(outliers_physic)\n",
    "\n",
    "zonas_congestion = (\n",
    "    outliers_total.groupBy(\"PU_ZONE\")\n",
    "        .agg(F.count(\"*\").alias(\"num_outlier_trips\"))\n",
    "        .orderBy(F.col(\"num_outlier_trips\").desc())\n",
    ")\n",
    "\n",
    "zonas_congestion.limit(20).show(truncate=False)\n",
    "\n"
   ]
  },
  {
   "cell_type": "markdown",
   "id": "db7d540c",
   "metadata": {},
   "source": [
    "r) Yield por milla (`total_amount`/`trip_distance`) por borough y hora."
   ]
  },
  {
   "cell_type": "code",
   "execution_count": 5,
   "id": "2ed13aaf",
   "metadata": {},
   "outputs": [
    {
     "name": "stdout",
     "output_type": "stream",
     "text": [
      "+-------------+-----------+---------+\n",
      "|   PU_BOROUGH|PICKUP_HOUR|avg_yield|\n",
      "+-------------+-----------+---------+\n",
      "|          N/A|          7|   101.34|\n",
      "|       Queens|         14|    12.22|\n",
      "|    Manhattan|         15|    10.98|\n",
      "|     Brooklyn|         21|     8.41|\n",
      "|          N/A|         21|    227.4|\n",
      "|       Queens|          2|    13.19|\n",
      "|          N/A|          9|    80.88|\n",
      "|      Unknown|         15|    23.69|\n",
      "|     Brooklyn|         13|    14.53|\n",
      "|       Queens|          4|    10.68|\n",
      "|    Manhattan|         17|     9.27|\n",
      "|    Manhattan|          8|    10.65|\n",
      "|       Queens|          8|    11.97|\n",
      "|Staten Island|         21|     53.2|\n",
      "|       Queens|          6|    10.08|\n",
      "|       Queens|          7|    11.33|\n",
      "|          N/A|         15|   195.35|\n",
      "|          N/A|         11|    92.31|\n",
      "|     Brooklyn|         18|     8.56|\n",
      "|    Manhattan|         19|     9.13|\n",
      "+-------------+-----------+---------+\n",
      "only showing top 20 rows\n",
      "\n"
     ]
    }
   ],
   "source": [
    "# VALORES RAZONABLES\n",
    "df_filtered = df.filter((F.col(\"TRIP_DISTANCE\") > 0) & (F.col(\"TRIP_DISTANCE\") < 1000))\n",
    "\n",
    "df_yield = df_filtered.withColumn(\"yield\", F.col(\"TOTAL_AMOUNT\") / F.col(\"TRIP_DISTANCE\"))\n",
    "\n",
    "\n",
    "yield_stats = (\n",
    "    df_yield.groupBy(\"PU_BOROUGH\", \"PICKUP_HOUR\")\n",
    "            .agg(F.round(F.avg(\"yield\"), 2).alias(\"avg_yield\"))\n",
    "\n",
    ")\n",
    "\n",
    "yield_stats.show()"
   ]
  },
  {
   "cell_type": "markdown",
   "id": "dd9514cb",
   "metadata": {},
   "source": [
    "s) Cambios YoY en volumen y ticket promedio por service_type."
   ]
  },
  {
   "cell_type": "code",
   "execution_count": 6,
   "id": "e5fb07f9",
   "metadata": {},
   "outputs": [
    {
     "name": "stdout",
     "output_type": "stream",
     "text": [
      "+------------+----+---------+----------+\n",
      "|SERVICE_TYPE|YEAR|num_trips|avg_ticket|\n",
      "+------------+----+---------+----------+\n",
      "|       green|2008|      364|     12.93|\n",
      "|       green|2009|       65|     29.81|\n",
      "|       green|2010|      348|     17.95|\n",
      "|       green|2012|        3|      9.79|\n",
      "|       green|2014|    30689|     15.69|\n",
      "|       green|2015| 19233058|     14.84|\n",
      "|       green|2016| 16374092|     14.64|\n",
      "|       green|2017| 11728076|     14.24|\n",
      "|       green|2018|  8894836|      16.1|\n",
      "|       green|2019|  6299334|     18.33|\n",
      "|       green|2020|  1730597|     20.17|\n",
      "|       green|2021|  1068840|     23.93|\n",
      "|       green|2022|   840466|     19.33|\n",
      "|       green|2023|   787021|     23.86|\n",
      "|       green|2024|   660172|     24.27|\n",
      "|       green|2025|   397630|     24.85|\n",
      "|       green|2030|        2|      6.15|\n",
      "|       green|2035|        1|       0.0|\n",
      "|       green|2041|        1|       0.0|\n",
      "|       green|2062|        1|       3.6|\n",
      "+------------+----+---------+----------+\n",
      "only showing top 20 rows\n",
      "\n"
     ]
    }
   ],
   "source": [
    "yoy_service = (\n",
    "    df.groupBy(\"SERVICE_TYPE\", \"YEAR\")\n",
    "      .agg(\n",
    "          F.count(\"*\").alias(\"num_trips\"),\n",
    "          F.round(F.avg(\"TOTAL_AMOUNT\"),2).alias(\"avg_ticket\")\n",
    "      )\n",
    "      .orderBy(\"SERVICE_TYPE\", \"YEAR\")\n",
    ")\n",
    "yoy_service.show()\n"
   ]
  },
  {
   "cell_type": "markdown",
   "id": "74e5e3b5",
   "metadata": {},
   "source": [
    "t) Días con alta congestion_surcharge: efecto en total_amount vs días “normales”"
   ]
  },
  {
   "cell_type": "code",
   "execution_count": 7,
   "id": "30789432",
   "metadata": {},
   "outputs": [
    {
     "name": "stdout",
     "output_type": "stream",
     "text": [
      "+-------------+---------------+---------+----------------+\n",
      "|   PU_BOROUGH|high_congestion|num_trips|avg_total_amount|\n",
      "+-------------+---------------+---------+----------------+\n",
      "|     Brooklyn|         normal| 34604064|           18.11|\n",
      "|      Unknown|           high|  1253807|           25.84|\n",
      "|     Brooklyn|           high|   802673|           31.04|\n",
      "|Staten Island|         normal|    53221|           51.35|\n",
      "|       Queens|           high| 11079699|           70.07|\n",
      "|          EWR|         normal|    74410|           92.13|\n",
      "|    Manhattan|           high|234042485|           19.55|\n",
      "|        Bronx|           high|    33318|           44.29|\n",
      "|       Queens|         normal| 61420560|           34.96|\n",
      "|    Manhattan|         normal|498016059|           14.69|\n",
      "|      Unknown|         normal|  8545317|           18.34|\n",
      "|          N/A|         normal|   708068|           66.05|\n",
      "|          N/A|           high|     8137|           55.88|\n",
      "|        Bronx|         normal|  5265008|           20.32|\n",
      "|Staten Island|           high|      745|           71.68|\n",
      "|          EWR|           high|      328|          100.83|\n",
      "+-------------+---------------+---------+----------------+\n",
      "\n"
     ]
    }
   ],
   "source": [
    "df_cong = df.withColumn(\"high_congestion\", F.when(F.col(\"CONGESTION_SURCHARGE\")>2, \"high\").otherwise(\"normal\"))\n",
    "\n",
    "congestion_effect = (\n",
    "    df_cong.groupBy(\"PU_BOROUGH\", \"high_congestion\")\n",
    "            .agg(\n",
    "                F.count(\"*\").alias(\"num_trips\"),\n",
    "                F.round(F.avg(\"TOTAL_AMOUNT\"),2).alias(\"avg_total_amount\")\n",
    "            )\n",
    ")\n",
    "congestion_effect.show()\n"
   ]
  }
 ],
 "metadata": {
  "kernelspec": {
   "display_name": "Python 3 (ipykernel)",
   "language": "python",
   "name": "python3"
  },
  "language_info": {
   "codemirror_mode": {
    "name": "ipython",
    "version": 3
   },
   "file_extension": ".py",
   "mimetype": "text/x-python",
   "name": "python",
   "nbconvert_exporter": "python",
   "pygments_lexer": "ipython3",
   "version": "3.11.6"
  }
 },
 "nbformat": 4,
 "nbformat_minor": 5
}
